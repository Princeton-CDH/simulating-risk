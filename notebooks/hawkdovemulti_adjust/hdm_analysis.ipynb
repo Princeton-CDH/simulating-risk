{
 "cells": [
  {
   "cell_type": "markdown",
   "id": "93aaaafa-eccf-46c3-9b7a-d7c94134de95",
   "metadata": {},
   "source": [
    "# Analysis of Hawk/dove multiple risk attitudes with adjustment \n",
    "\n",
    "Includes analysis of risk attitudes across runs, population category, and paired statistical testing for parameter significance.\n",
    "\n",
    "Conclusions:\n",
    "- adjustment strategy impacts simulation run length (adopt takes much longer to converage than average)\n",
    "- recent payoff vs total payoff does not have a significant impact on the risk attitudes of the final population (proportions that are risk inclined, risk moderate, and risk avoidant are similar)"
   ]
  },
  {
   "cell_type": "code",
   "execution_count": 1,
   "id": "68cffb06-869b-452c-9e91-6f5a97e8f5fa",
   "metadata": {},
   "outputs": [],
   "source": [
    "import polars as pl\n",
    "\n",
    "df = pl.scan_csv(\"../../data/hawkdovemulti/job*2024-02*.csv\").collect()"
   ]
  },
  {
   "cell_type": "code",
   "execution_count": 3,
   "id": "da15fac6-a4af-43a5-a4c6-ba747a6ca005",
   "metadata": {},
   "outputs": [
    {
     "data": {
      "text/plain": [
       "(329665, 28)"
      ]
     },
     "execution_count": 3,
     "metadata": {},
     "output_type": "execute_result"
    }
   ],
   "source": [
    "df.shape"
   ]
  },
  {
   "cell_type": "code",
   "execution_count": 4,
   "id": "979a3c87-c9ed-4354-bb97-f651ba75c0fd",
   "metadata": {},
   "outputs": [
    {
     "name": "stdout",
     "output_type": "stream",
     "text": [
      "329,665 rows\n"
     ]
    }
   ],
   "source": [
    "print(f\"{df.shape[0]:,} rows\")"
   ]
  },
  {
   "cell_type": "markdown",
   "id": "32c60314-93f2-4175-b038-b63d0898dcb1",
   "metadata": {},
   "source": [
    "## risk attitude summary statistics"
   ]
  },
  {
   "cell_type": "code",
   "execution_count": 5,
   "id": "489918fd-f871-4720-bc12-342dd7384723",
   "metadata": {},
   "outputs": [
    {
     "data": {
      "text/plain": [
       "['RunId',\n",
       " 'iteration',\n",
       " 'Step',\n",
       " 'grid_size',\n",
       " 'risk_adjustment',\n",
       " 'play_neighborhood',\n",
       " 'observed_neighborhood',\n",
       " 'adjust_neighborhood',\n",
       " 'hawk_odds',\n",
       " 'adjust_every',\n",
       " 'risk_distribution',\n",
       " 'adjust_payoff',\n",
       " 'max_agent_points',\n",
       " 'percent_hawk',\n",
       " 'rolling_percent_hawk',\n",
       " 'status',\n",
       " 'total_agents',\n",
       " 'population_risk_category',\n",
       " 'total_r0',\n",
       " 'total_r1',\n",
       " 'total_r2',\n",
       " 'total_r3',\n",
       " 'total_r4',\n",
       " 'total_r5',\n",
       " 'total_r6',\n",
       " 'total_r7',\n",
       " 'total_r8',\n",
       " 'total_r9']"
      ]
     },
     "execution_count": 5,
     "metadata": {},
     "output_type": "execute_result"
    }
   ],
   "source": [
    "df.columns"
   ]
  },
  {
   "cell_type": "code",
   "execution_count": 6,
   "id": "7847e03e-1261-4886-9b2a-0d7d4bf22288",
   "metadata": {},
   "outputs": [
    {
     "data": {
      "text/html": [
       "<div><style>\n",
       ".dataframe > thead > tr,\n",
       ".dataframe > tbody > tr {\n",
       "  text-align: right;\n",
       "  white-space: pre-wrap;\n",
       "}\n",
       "</style>\n",
       "<small>shape: (329_665, 2)</small><table border=\"1\" class=\"dataframe\"><thead><tr><th>risk_attitude_mean</th><th>rmax</th></tr><tr><td>f64</td><td>i64</td></tr></thead><tbody><tr><td>4.88</td><td>20</td></tr><tr><td>4.47</td><td>31</td></tr><tr><td>3.62</td><td>25</td></tr><tr><td>4.69</td><td>33</td></tr><tr><td>2.73</td><td>54</td></tr><tr><td>&hellip;</td><td>&hellip;</td></tr><tr><td>4.5296</td><td>152</td></tr><tr><td>5.2496</td><td>160</td></tr><tr><td>3.2816</td><td>247</td></tr><tr><td>5.9296</td><td>126</td></tr><tr><td>2.4512</td><td>256</td></tr></tbody></table></div>"
      ],
      "text/plain": [
       "shape: (329_665, 2)\n",
       "┌────────────────────┬──────┐\n",
       "│ risk_attitude_mean ┆ rmax │\n",
       "│ ---                ┆ ---  │\n",
       "│ f64                ┆ i64  │\n",
       "╞════════════════════╪══════╡\n",
       "│ 4.88               ┆ 20   │\n",
       "│ 4.47               ┆ 31   │\n",
       "│ 3.62               ┆ 25   │\n",
       "│ 4.69               ┆ 33   │\n",
       "│ 2.73               ┆ 54   │\n",
       "│ …                  ┆ …    │\n",
       "│ 4.5296             ┆ 152  │\n",
       "│ 5.2496             ┆ 160  │\n",
       "│ 3.2816             ┆ 247  │\n",
       "│ 5.9296             ┆ 126  │\n",
       "│ 2.4512             ┆ 256  │\n",
       "└────────────────────┴──────┘"
      ]
     },
     "execution_count": 6,
     "metadata": {},
     "output_type": "execute_result"
    }
   ],
   "source": [
    "#def risk_attitude_mean(df):\n",
    "#    return pl.col(\"RunId\")df.total_r0 * 0 + \n",
    "\n",
    "# calculate a mean of risk attitude per run \n",
    "df_riskstats = df.with_columns(\n",
    "    # ignore r0 since it is times 0\n",
    "    pl.Series('risk_attitude_mean', values=df.select(\n",
    "        (pl.col(\"total_r1\") + pl.col(\"total_r2\")*2 + pl.col(\"total_r3\")*3 + pl.col(\"total_r4\")*4 + pl.col(\"total_r5\")*5 + pl.col(\"total_r6\")*6 + pl.col(\"total_r7\")*7 + pl.col(\"total_r8\")*8 + pl.col(\"total_r9\")*9)  \n",
    "         / pl.col(\"total_agents\"))\n",
    "))\n",
    "\n",
    "\n",
    "# calculate largest group of risk attitudes, as a step towards determining the mode\n",
    "df_riskstats = df_riskstats.with_columns(rmax=pl.max_horizontal(\"total_r0\", \"total_r1\", \"total_r2\", \"total_r3\", \"total_r4\", \"total_r5\", \"total_r6\", \"total_r7\", \"total_r8\", \"total_r9\"))\n",
    "\n",
    "# TODO: figure out how to calculate mode based on max within each row\n",
    "\n",
    "df_riskstats[[\"risk_attitude_mean\", \"rmax\"]]"
   ]
  },
  {
   "cell_type": "code",
   "execution_count": 9,
   "id": "c9b0489e-9263-4607-910a-b7a3de9db242",
   "metadata": {},
   "outputs": [
    {
     "data": {
      "text/html": [
       "\n",
       "<style>\n",
       "  #altair-viz-807b6619825e40e6a92be4acfe389bfc.vega-embed {\n",
       "    width: 100%;\n",
       "    display: flex;\n",
       "  }\n",
       "\n",
       "  #altair-viz-807b6619825e40e6a92be4acfe389bfc.vega-embed details,\n",
       "  #altair-viz-807b6619825e40e6a92be4acfe389bfc.vega-embed details summary {\n",
       "    position: relative;\n",
       "  }\n",
       "</style>\n",
       "<div id=\"altair-viz-807b6619825e40e6a92be4acfe389bfc\"></div>\n",
       "<script type=\"text/javascript\">\n",
       "  var VEGA_DEBUG = (typeof VEGA_DEBUG == \"undefined\") ? {} : VEGA_DEBUG;\n",
       "  (function(spec, embedOpt){\n",
       "    let outputDiv = document.currentScript.previousElementSibling;\n",
       "    if (outputDiv.id !== \"altair-viz-807b6619825e40e6a92be4acfe389bfc\") {\n",
       "      outputDiv = document.getElementById(\"altair-viz-807b6619825e40e6a92be4acfe389bfc\");\n",
       "    }\n",
       "\n",
       "    const paths = {\n",
       "      \"vega\": \"https://cdn.jsdelivr.net/npm/vega@5?noext\",\n",
       "      \"vega-lib\": \"https://cdn.jsdelivr.net/npm/vega-lib?noext\",\n",
       "      \"vega-lite\": \"https://cdn.jsdelivr.net/npm/vega-lite@5.20.1?noext\",\n",
       "      \"vega-embed\": \"https://cdn.jsdelivr.net/npm/vega-embed@6?noext\",\n",
       "    };\n",
       "\n",
       "    function maybeLoadScript(lib, version) {\n",
       "      var key = `${lib.replace(\"-\", \"\")}_version`;\n",
       "      return (VEGA_DEBUG[key] == version) ?\n",
       "        Promise.resolve(paths[lib]) :\n",
       "        new Promise(function(resolve, reject) {\n",
       "          var s = document.createElement('script');\n",
       "          document.getElementsByTagName(\"head\")[0].appendChild(s);\n",
       "          s.async = true;\n",
       "          s.onload = () => {\n",
       "            VEGA_DEBUG[key] = version;\n",
       "            return resolve(paths[lib]);\n",
       "          };\n",
       "          s.onerror = () => reject(`Error loading script: ${paths[lib]}`);\n",
       "          s.src = paths[lib];\n",
       "        });\n",
       "    }\n",
       "\n",
       "    function showError(err) {\n",
       "      outputDiv.innerHTML = `<div class=\"error\" style=\"color:red;\">${err}</div>`;\n",
       "      throw err;\n",
       "    }\n",
       "\n",
       "    function displayChart(vegaEmbed) {\n",
       "      vegaEmbed(outputDiv, spec, embedOpt)\n",
       "        .catch(err => showError(`Javascript Error: ${err.message}<br>This usually means there's a typo in your chart specification. See the javascript console for the full traceback.`));\n",
       "    }\n",
       "\n",
       "    if(typeof define === \"function\" && define.amd) {\n",
       "      requirejs.config({paths});\n",
       "      let deps = [\"vega-embed\"];\n",
       "      require(deps, displayChart, err => showError(`Error loading script: ${err.message}`));\n",
       "    } else {\n",
       "      maybeLoadScript(\"vega\", \"5\")\n",
       "        .then(() => maybeLoadScript(\"vega-lite\", \"5.20.1\"))\n",
       "        .then(() => maybeLoadScript(\"vega-embed\", \"6\"))\n",
       "        .catch(showError)\n",
       "        .then(() => displayChart(vegaEmbed));\n",
       "    }\n",
       "  })({\"$schema\": \"https://vega.github.io/schema/vega/v5.json\", \"data\": [{\"name\": \"source_0\", \"values\": [{\"__count\": 108640, \"bin_maxbins_10_risk_attitude_mean\": 4.0, \"bin_maxbins_10_risk_attitude_mean_end\": 5.0}, {\"__count\": 91386, \"bin_maxbins_10_risk_attitude_mean\": 3.0, \"bin_maxbins_10_risk_attitude_mean_end\": 4.0}, {\"__count\": 44787, \"bin_maxbins_10_risk_attitude_mean\": 2.0, \"bin_maxbins_10_risk_attitude_mean_end\": 3.0}, {\"__count\": 46069, \"bin_maxbins_10_risk_attitude_mean\": 5.0, \"bin_maxbins_10_risk_attitude_mean_end\": 6.0}, {\"__count\": 8170, \"bin_maxbins_10_risk_attitude_mean\": 1.0, \"bin_maxbins_10_risk_attitude_mean_end\": 2.0}, {\"__count\": 16594, \"bin_maxbins_10_risk_attitude_mean\": 6.0, \"bin_maxbins_10_risk_attitude_mean_end\": 7.0}, {\"__count\": 8700, \"bin_maxbins_10_risk_attitude_mean\": 7.0, \"bin_maxbins_10_risk_attitude_mean_end\": 8.0}, {\"__count\": 3923, \"bin_maxbins_10_risk_attitude_mean\": 8.0, \"bin_maxbins_10_risk_attitude_mean_end\": 9.0}, {\"__count\": 1396, \"bin_maxbins_10_risk_attitude_mean\": 0.0, \"bin_maxbins_10_risk_attitude_mean_end\": 1.0}]}, {\"name\": \"source_0_y_domain___count\", \"values\": [{\"min\": 1396, \"max\": 108640}]}], \"signals\": [{\"name\": \"bin_maxbins_10_risk_attitude_mean_bins\", \"value\": {\"fields\": [\"risk_attitude_mean\"], \"fname\": \"bin_risk_attitude_mean\", \"start\": 0.0, \"step\": 1.0, \"stop\": 9.0}}], \"marks\": [{\"type\": \"rect\", \"name\": \"marks\", \"from\": {\"data\": \"source_0\"}, \"encode\": {\"update\": {\"fill\": {\"value\": \"#4c78a8\"}, \"x2\": {\"field\": \"bin_maxbins_10_risk_attitude_mean\", \"scale\": \"x\", \"offset\": {\"signal\": \"0.5 + (abs(scale(\\\"x\\\", datum[\\\"bin_maxbins_10_risk_attitude_mean_end\\\"]) - scale(\\\"x\\\", datum[\\\"bin_maxbins_10_risk_attitude_mean\\\"])) < 0.25 ? -0.5 * (0.25 - (abs(scale(\\\"x\\\", datum[\\\"bin_maxbins_10_risk_attitude_mean_end\\\"]) - scale(\\\"x\\\", datum[\\\"bin_maxbins_10_risk_attitude_mean\\\"])))) : 0.5)\"}}, \"x\": {\"field\": \"bin_maxbins_10_risk_attitude_mean_end\", \"scale\": \"x\", \"offset\": {\"signal\": \"0.5 + (abs(scale(\\\"x\\\", datum[\\\"bin_maxbins_10_risk_attitude_mean_end\\\"]) - scale(\\\"x\\\", datum[\\\"bin_maxbins_10_risk_attitude_mean\\\"])) < 0.25 ? 0.5 * (0.25 - (abs(scale(\\\"x\\\", datum[\\\"bin_maxbins_10_risk_attitude_mean_end\\\"]) - scale(\\\"x\\\", datum[\\\"bin_maxbins_10_risk_attitude_mean\\\"])))) : -0.5)\"}}, \"y\": {\"field\": \"__count\", \"scale\": \"y\"}, \"y2\": {\"value\": 0, \"scale\": \"y\"}}}, \"style\": [\"bar\"]}], \"scales\": [{\"name\": \"x\", \"type\": \"linear\", \"domain\": {\"signal\": \"[bin_maxbins_10_risk_attitude_mean_bins.start, bin_maxbins_10_risk_attitude_mean_bins.stop]\"}, \"range\": [0, {\"signal\": \"width\"}], \"bins\": {\"signal\": \"bin_maxbins_10_risk_attitude_mean_bins\"}, \"zero\": false}, {\"name\": \"y\", \"type\": \"linear\", \"domain\": [{\"signal\": \"(data(\\\"source_0_y_domain___count\\\")[0] || {}).min\"}, {\"signal\": \"(data(\\\"source_0_y_domain___count\\\")[0] || {}).max\"}], \"range\": [{\"signal\": \"height\"}, 0], \"zero\": true, \"nice\": true}], \"axes\": [{\"scale\": \"y\", \"grid\": true, \"labels\": false, \"zindex\": 0, \"tickCount\": {\"signal\": \"ceil(height/40)\"}, \"orient\": \"left\", \"minExtent\": 0, \"gridScale\": \"x\", \"aria\": false, \"domain\": false, \"ticks\": false, \"maxExtent\": 0}, {\"scale\": \"x\", \"labelOverlap\": true, \"orient\": \"bottom\", \"title\": \"risk_attitude_mean (binned)\", \"grid\": false, \"labelFlush\": true, \"tickCount\": {\"signal\": \"ceil(width/10)\"}, \"zindex\": 0}, {\"scale\": \"y\", \"grid\": false, \"tickCount\": {\"signal\": \"ceil(height/40)\"}, \"orient\": \"left\", \"zindex\": 0, \"labelOverlap\": true, \"title\": \"Count of Records\"}], \"width\": 300, \"background\": \"white\", \"height\": 300, \"style\": \"cell\", \"padding\": 5}, {\"mode\": \"vega\"});\n",
       "</script>"
      ],
      "text/plain": [
       "alt.Chart(...)"
      ]
     },
     "execution_count": 9,
     "metadata": {},
     "output_type": "execute_result"
    }
   ],
   "source": [
    "# generate a histogram plot of risk attitude mean\n",
    "import altair as alt\n",
    "\n",
    "# configure for large datasets\n",
    "alt.data_transformers.enable(\"vegafusion\")\n",
    "\n",
    "alt.Chart(df_riskstats).mark_bar().encode(\n",
    "    alt.X(\"risk_attitude_mean\", bin=True),\n",
    "    y='count()',\n",
    ")"
   ]
  },
  {
   "cell_type": "markdown",
   "id": "9d360f88-2e14-43c1-a476-c557c0b35ffd",
   "metadata": {},
   "source": [
    "## population categories across all runs"
   ]
  },
  {
   "cell_type": "code",
   "execution_count": 10,
   "id": "5df1fb7c-ddc7-4b3b-b365-ac9721972973",
   "metadata": {},
   "outputs": [
    {
     "data": {
      "text/html": [
       "<div><style>\n",
       ".dataframe > thead > tr,\n",
       ".dataframe > tbody > tr {\n",
       "  text-align: right;\n",
       "  white-space: pre-wrap;\n",
       "}\n",
       "</style>\n",
       "<small>shape: (9, 2)</small><table border=\"1\" class=\"dataframe\"><thead><tr><th>statistic</th><th>value</th></tr><tr><td>str</td><td>f64</td></tr></thead><tbody><tr><td>&quot;count&quot;</td><td>329665.0</td></tr><tr><td>&quot;null_count&quot;</td><td>0.0</td></tr><tr><td>&quot;mean&quot;</td><td>7.963284</td></tr><tr><td>&quot;std&quot;</td><td>4.267834</td></tr><tr><td>&quot;min&quot;</td><td>1.0</td></tr><tr><td>&quot;25%&quot;</td><td>5.0</td></tr><tr><td>&quot;50%&quot;</td><td>7.0</td></tr><tr><td>&quot;75%&quot;</td><td>13.0</td></tr><tr><td>&quot;max&quot;</td><td>13.0</td></tr></tbody></table></div>"
      ],
      "text/plain": [
       "shape: (9, 2)\n",
       "┌────────────┬──────────┐\n",
       "│ statistic  ┆ value    │\n",
       "│ ---        ┆ ---      │\n",
       "│ str        ┆ f64      │\n",
       "╞════════════╪══════════╡\n",
       "│ count      ┆ 329665.0 │\n",
       "│ null_count ┆ 0.0      │\n",
       "│ mean       ┆ 7.963284 │\n",
       "│ std        ┆ 4.267834 │\n",
       "│ min        ┆ 1.0      │\n",
       "│ 25%        ┆ 5.0      │\n",
       "│ 50%        ┆ 7.0      │\n",
       "│ 75%        ┆ 13.0     │\n",
       "│ max        ┆ 13.0     │\n",
       "└────────────┴──────────┘"
      ]
     },
     "execution_count": 10,
     "metadata": {},
     "output_type": "execute_result"
    }
   ],
   "source": [
    "df[\"population_risk_category\"].describe()"
   ]
  },
  {
   "cell_type": "markdown",
   "id": "9bfd875b-c36d-42de-8032-2f409fac6e96",
   "metadata": {},
   "source": [
    "graph number runs resulting in each category, across all parameter combinations"
   ]
  },
  {
   "cell_type": "code",
   "execution_count": 11,
   "id": "7f0dfc8b-c7c8-4a93-817f-e69e58d6fe0c",
   "metadata": {},
   "outputs": [
    {
     "data": {
      "text/html": [
       "<div><style>\n",
       ".dataframe > thead > tr,\n",
       ".dataframe > tbody > tr {\n",
       "  text-align: right;\n",
       "  white-space: pre-wrap;\n",
       "}\n",
       "</style>\n",
       "<small>shape: (13, 2)</small><table border=\"1\" class=\"dataframe\"><thead><tr><th>risk_category</th><th>count</th></tr><tr><td>i64</td><td>i64</td></tr></thead><tbody><tr><td>1</td><td>25050946</td></tr><tr><td>2</td><td>291408160</td></tr><tr><td>3</td><td>140448738</td></tr><tr><td>4</td><td>76565066</td></tr><tr><td>5</td><td>423468466</td></tr><tr><td>&hellip;</td><td>&hellip;</td></tr><tr><td>9</td><td>78636674</td></tr><tr><td>10</td><td>78893041</td></tr><tr><td>11</td><td>42958110</td></tr><tr><td>12</td><td>30871511</td></tr><tr><td>13</td><td>841578451</td></tr></tbody></table></div>"
      ],
      "text/plain": [
       "shape: (13, 2)\n",
       "┌───────────────┬───────────┐\n",
       "│ risk_category ┆ count     │\n",
       "│ ---           ┆ ---       │\n",
       "│ i64           ┆ i64       │\n",
       "╞═══════════════╪═══════════╡\n",
       "│ 1             ┆ 25050946  │\n",
       "│ 2             ┆ 291408160 │\n",
       "│ 3             ┆ 140448738 │\n",
       "│ 4             ┆ 76565066  │\n",
       "│ 5             ┆ 423468466 │\n",
       "│ …             ┆ …         │\n",
       "│ 9             ┆ 78636674  │\n",
       "│ 10            ┆ 78893041  │\n",
       "│ 11            ┆ 42958110  │\n",
       "│ 12            ┆ 30871511  │\n",
       "│ 13            ┆ 841578451 │\n",
       "└───────────────┴───────────┘"
      ]
     },
     "execution_count": 11,
     "metadata": {},
     "output_type": "execute_result"
    }
   ],
   "source": [
    "# graph number of runs in each category\n",
    "\n",
    "# group on risk category to get total for each type\n",
    "poprisk_grouped = df.group_by('population_risk_category').agg(pl.col(\"RunId\").sum())  \n",
    "poprisk_grouped = poprisk_grouped.rename({\"population_risk_category\": \"risk_category\", \"RunId\": \"count\"})\n",
    "poprisk_grouped = poprisk_grouped.sort(\"risk_category\")\n",
    "poprisk_grouped"
   ]
  },
  {
   "cell_type": "code",
   "execution_count": 13,
   "id": "4f4245ec-e3e5-43be-abf0-2401272fea67",
   "metadata": {},
   "outputs": [
    {
     "data": {
      "text/html": [
       "<div><style>\n",
       ".dataframe > thead > tr,\n",
       ".dataframe > tbody > tr {\n",
       "  text-align: right;\n",
       "  white-space: pre-wrap;\n",
       "}\n",
       "</style>\n",
       "<small>shape: (13, 3)</small><table border=\"1\" class=\"dataframe\"><thead><tr><th>risk_category</th><th>count</th><th>type</th></tr><tr><td>i64</td><td>i64</td><td>str</td></tr></thead><tbody><tr><td>1</td><td>25050946</td><td>&quot;majority risk inclined&quot;</td></tr><tr><td>2</td><td>291408160</td><td>&quot;majority risk inclined&quot;</td></tr><tr><td>3</td><td>140448738</td><td>&quot;majority risk inclined&quot;</td></tr><tr><td>4</td><td>76565066</td><td>&quot;majority risk inclined&quot;</td></tr><tr><td>5</td><td>423468466</td><td>&quot;majority risk moderate&quot;</td></tr><tr><td>&hellip;</td><td>&hellip;</td><td>&hellip;</td></tr><tr><td>9</td><td>78636674</td><td>&quot;majority risk avoidant&quot;</td></tr><tr><td>10</td><td>78893041</td><td>&quot;majority risk avoidant&quot;</td></tr><tr><td>11</td><td>42958110</td><td>&quot;majority risk avoidant&quot;</td></tr><tr><td>12</td><td>30871511</td><td>&quot;majority risk avoidant&quot;</td></tr><tr><td>13</td><td>841578451</td><td>&quot;no majority&quot;</td></tr></tbody></table></div>"
      ],
      "text/plain": [
       "shape: (13, 3)\n",
       "┌───────────────┬───────────┬────────────────────────┐\n",
       "│ risk_category ┆ count     ┆ type                   │\n",
       "│ ---           ┆ ---       ┆ ---                    │\n",
       "│ i64           ┆ i64       ┆ str                    │\n",
       "╞═══════════════╪═══════════╪════════════════════════╡\n",
       "│ 1             ┆ 25050946  ┆ majority risk inclined │\n",
       "│ 2             ┆ 291408160 ┆ majority risk inclined │\n",
       "│ 3             ┆ 140448738 ┆ majority risk inclined │\n",
       "│ 4             ┆ 76565066  ┆ majority risk inclined │\n",
       "│ 5             ┆ 423468466 ┆ majority risk moderate │\n",
       "│ …             ┆ …         ┆ …                      │\n",
       "│ 9             ┆ 78636674  ┆ majority risk avoidant │\n",
       "│ 10            ┆ 78893041  ┆ majority risk avoidant │\n",
       "│ 11            ┆ 42958110  ┆ majority risk avoidant │\n",
       "│ 12            ┆ 30871511  ┆ majority risk avoidant │\n",
       "│ 13            ┆ 841578451 ┆ no majority            │\n",
       "└───────────────┴───────────┴────────────────────────┘"
      ]
     },
     "execution_count": 13,
     "metadata": {},
     "output_type": "execute_result"
    }
   ],
   "source": [
    "from simulatingrisk.hawkdovemulti.model import RiskState\n",
    "\n",
    "# add column with readable group labels for numeric categories\n",
    "poprisk_grouped = poprisk_grouped.with_columns(pl.Series(name=\"type\", values=poprisk_grouped[\"risk_category\"].map_elements(RiskState.category, return_dtype=pl.datatypes.String)))\n",
    "poprisk_grouped"
   ]
  },
  {
   "cell_type": "code",
   "execution_count": 29,
   "id": "735b0905-7bc9-4360-b56b-5bde63c84389",
   "metadata": {},
   "outputs": [],
   "source": [
    "# not sure how to customize the bulitin polars hvplot bar chart to display the way we want... these colors are not working\n",
    "#poprisk_grouped.plot.bar(x=\"risk_category\", y=\"count\", color=\"type\", colorbar=True,)"
   ]
  },
  {
   "cell_type": "code",
   "execution_count": 14,
   "id": "8763aeb3-a2a5-4315-9b8a-38908535f451",
   "metadata": {},
   "outputs": [
    {
     "data": {
      "text/html": [
       "\n",
       "<style>\n",
       "  #altair-viz-ee0ff293dbfe4d0784be69a13b6b5262.vega-embed {\n",
       "    width: 100%;\n",
       "    display: flex;\n",
       "  }\n",
       "\n",
       "  #altair-viz-ee0ff293dbfe4d0784be69a13b6b5262.vega-embed details,\n",
       "  #altair-viz-ee0ff293dbfe4d0784be69a13b6b5262.vega-embed details summary {\n",
       "    position: relative;\n",
       "  }\n",
       "</style>\n",
       "<div id=\"altair-viz-ee0ff293dbfe4d0784be69a13b6b5262\"></div>\n",
       "<script type=\"text/javascript\">\n",
       "  var VEGA_DEBUG = (typeof VEGA_DEBUG == \"undefined\") ? {} : VEGA_DEBUG;\n",
       "  (function(spec, embedOpt){\n",
       "    let outputDiv = document.currentScript.previousElementSibling;\n",
       "    if (outputDiv.id !== \"altair-viz-ee0ff293dbfe4d0784be69a13b6b5262\") {\n",
       "      outputDiv = document.getElementById(\"altair-viz-ee0ff293dbfe4d0784be69a13b6b5262\");\n",
       "    }\n",
       "\n",
       "    const paths = {\n",
       "      \"vega\": \"https://cdn.jsdelivr.net/npm/vega@5?noext\",\n",
       "      \"vega-lib\": \"https://cdn.jsdelivr.net/npm/vega-lib?noext\",\n",
       "      \"vega-lite\": \"https://cdn.jsdelivr.net/npm/vega-lite@5.20.1?noext\",\n",
       "      \"vega-embed\": \"https://cdn.jsdelivr.net/npm/vega-embed@6?noext\",\n",
       "    };\n",
       "\n",
       "    function maybeLoadScript(lib, version) {\n",
       "      var key = `${lib.replace(\"-\", \"\")}_version`;\n",
       "      return (VEGA_DEBUG[key] == version) ?\n",
       "        Promise.resolve(paths[lib]) :\n",
       "        new Promise(function(resolve, reject) {\n",
       "          var s = document.createElement('script');\n",
       "          document.getElementsByTagName(\"head\")[0].appendChild(s);\n",
       "          s.async = true;\n",
       "          s.onload = () => {\n",
       "            VEGA_DEBUG[key] = version;\n",
       "            return resolve(paths[lib]);\n",
       "          };\n",
       "          s.onerror = () => reject(`Error loading script: ${paths[lib]}`);\n",
       "          s.src = paths[lib];\n",
       "        });\n",
       "    }\n",
       "\n",
       "    function showError(err) {\n",
       "      outputDiv.innerHTML = `<div class=\"error\" style=\"color:red;\">${err}</div>`;\n",
       "      throw err;\n",
       "    }\n",
       "\n",
       "    function displayChart(vegaEmbed) {\n",
       "      vegaEmbed(outputDiv, spec, embedOpt)\n",
       "        .catch(err => showError(`Javascript Error: ${err.message}<br>This usually means there's a typo in your chart specification. See the javascript console for the full traceback.`));\n",
       "    }\n",
       "\n",
       "    if(typeof define === \"function\" && define.amd) {\n",
       "      requirejs.config({paths});\n",
       "      let deps = [\"vega-embed\"];\n",
       "      require(deps, displayChart, err => showError(`Error loading script: ${err.message}`));\n",
       "    } else {\n",
       "      maybeLoadScript(\"vega\", \"5\")\n",
       "        .then(() => maybeLoadScript(\"vega-lite\", \"5.20.1\"))\n",
       "        .then(() => maybeLoadScript(\"vega-embed\", \"6\"))\n",
       "        .catch(showError)\n",
       "        .then(() => displayChart(vegaEmbed));\n",
       "    }\n",
       "  })({\"$schema\": \"https://vega.github.io/schema/vega/v5.json\", \"data\": [{\"name\": \"source_0\", \"values\": [{\"count_end\": 25050946.0, \"count_start\": 0.0, \"risk_category\": 1, \"type\": \"majority risk inclined\"}, {\"count_end\": 291408160.0, \"count_start\": 0.0, \"risk_category\": 2, \"type\": \"majority risk inclined\"}, {\"count_end\": 140448738.0, \"count_start\": 0.0, \"risk_category\": 3, \"type\": \"majority risk inclined\"}, {\"count_end\": 76565066.0, \"count_start\": 0.0, \"risk_category\": 4, \"type\": \"majority risk inclined\"}, {\"count_end\": 423468466.0, \"count_start\": 0.0, \"risk_category\": 5, \"type\": \"majority risk moderate\"}, {\"count_end\": 213048364.0, \"count_start\": 0.0, \"risk_category\": 6, \"type\": \"majority risk moderate\"}, {\"count_end\": 75751634.0, \"count_start\": 0.0, \"risk_category\": 7, \"type\": \"majority risk moderate\"}, {\"count_end\": 59153331.0, \"count_start\": 0.0, \"risk_category\": 8, \"type\": \"majority risk moderate\"}, {\"count_end\": 78636674.0, \"count_start\": 0.0, \"risk_category\": 9, \"type\": \"majority risk avoidant\"}, {\"count_end\": 78893041.0, \"count_start\": 0.0, \"risk_category\": 10, \"type\": \"majority risk avoidant\"}, {\"count_end\": 42958110.0, \"count_start\": 0.0, \"risk_category\": 11, \"type\": \"majority risk avoidant\"}, {\"count_end\": 30871511.0, \"count_start\": 0.0, \"risk_category\": 12, \"type\": \"majority risk avoidant\"}, {\"count_end\": 841578451.0, \"count_start\": 0.0, \"risk_category\": 13, \"type\": \"no majority\"}]}, {\"name\": \"source_0_color_domain_type\", \"values\": [{\"type\": \"majority risk inclined\"}, {\"type\": \"majority risk moderate\"}, {\"type\": \"majority risk avoidant\"}, {\"type\": \"no majority\"}]}], \"marks\": [{\"type\": \"rect\", \"name\": \"marks\", \"from\": {\"data\": \"source_0\"}, \"encode\": {\"update\": {\"fill\": {\"field\": \"type\", \"scale\": \"color\"}, \"y\": {\"field\": \"count_end\", \"scale\": \"y\"}, \"xc\": {\"field\": \"risk_category\", \"scale\": \"x\"}, \"width\": {\"value\": 15}, \"y2\": {\"field\": \"count_start\", \"scale\": \"y\"}}}, \"style\": [\"bar\"]}], \"scales\": [{\"name\": \"x\", \"type\": \"linear\", \"domain\": [1, 13], \"range\": [0, {\"signal\": \"width\"}], \"zero\": false, \"padding\": 5}, {\"name\": \"y\", \"type\": \"linear\", \"domain\": {\"data\": \"source_0\", \"fields\": [\"count_start\", \"count_end\"]}, \"range\": [{\"signal\": \"height\"}, 0], \"nice\": true, \"zero\": true}, {\"name\": \"color\", \"type\": \"ordinal\", \"domain\": {\"data\": \"source_0_color_domain_type\", \"field\": \"type\", \"sort\": true}, \"range\": \"category\"}], \"axes\": [{\"scale\": \"x\", \"tickCount\": 13, \"orient\": \"bottom\", \"gridScale\": \"y\", \"grid\": true, \"domain\": false, \"minExtent\": 0, \"labels\": false, \"aria\": false, \"ticks\": false, \"zindex\": 0, \"maxExtent\": 0}, {\"scale\": \"y\", \"zindex\": 0, \"labels\": false, \"gridScale\": \"x\", \"orient\": \"left\", \"tickCount\": {\"signal\": \"ceil(height/40)\"}, \"maxExtent\": 0, \"ticks\": false, \"aria\": false, \"grid\": true, \"domain\": false, \"minExtent\": 0}, {\"scale\": \"x\", \"title\": \"risk category\", \"tickCount\": 13, \"labelFlush\": true, \"orient\": \"bottom\", \"grid\": false, \"labelOverlap\": true, \"zindex\": 0}, {\"scale\": \"y\", \"title\": \"Number of runs\", \"orient\": \"left\", \"labelOverlap\": true, \"tickCount\": {\"signal\": \"ceil(height/40)\"}, \"zindex\": 0, \"grid\": false}], \"title\": {\"text\": \"Distribution of runs by final population risk category\", \"frame\": \"group\"}, \"width\": 300, \"padding\": 5, \"height\": 300, \"style\": \"cell\", \"background\": \"white\", \"legends\": [{\"title\": \"type\", \"fill\": \"color\", \"symbolType\": \"square\"}]}, {\"mode\": \"vega\"});\n",
       "</script>"
      ],
      "text/plain": [
       "alt.Chart(...)"
      ]
     },
     "execution_count": 14,
     "metadata": {},
     "output_type": "execute_result"
    }
   ],
   "source": [
    "import altair as alt\n",
    "alt.Chart(poprisk_grouped).mark_bar(width=15).encode(\n",
    "   x=alt.X(\"risk_category\", title=\"risk category\", axis=alt.Axis(tickCount=13),  # 13 categories\n",
    "           scale=alt.Scale(domain=[1, 13])),\n",
    "   y=alt.Y(\"count\", title=\"Number of runs\"),\n",
    "   color=alt.Color(\"type\", title=\"type\")\n",
    ").properties(title='Distribution of runs by final population risk category')"
   ]
  },
  {
   "cell_type": "code",
   "execution_count": 15,
   "id": "ba03f458-1737-4a9f-aac3-8318f73d427e",
   "metadata": {},
   "outputs": [],
   "source": [
    "# calculate percentages for each risk attitude\n",
    "\n",
    "for i in range(0, 10):\n",
    "    # calculate new series based on existing \n",
    "    pct_risk_category = df.select(pl.col(f\"total_r{i}\") / pl.col(\"total_agents\"))\n",
    "    # add new column to the dataframe\n",
    "    df = df.with_columns(pl.Series(name=f\"pct_r{i}\", values=pct_risk_category))"
   ]
  },
  {
   "cell_type": "code",
   "execution_count": 16,
   "id": "d732b04a-28f0-47a5-8251-23adc57e998d",
   "metadata": {},
   "outputs": [
    {
     "data": {
      "text/html": [
       "<div><style>\n",
       ".dataframe > thead > tr,\n",
       ".dataframe > tbody > tr {\n",
       "  text-align: right;\n",
       "  white-space: pre-wrap;\n",
       "}\n",
       "</style>\n",
       "<small>shape: (10, 5)</small><table border=\"1\" class=\"dataframe\"><thead><tr><th>pct_r0</th><th>pct_r1</th><th>pct_risk_inclined</th><th>pct_risk_moderate</th><th>pct_risk_avoidant</th></tr><tr><td>f64</td><td>f64</td><td>f64</td><td>f64</td><td>f64</td></tr></thead><tbody><tr><td>0.05</td><td>0.05</td><td>0.25</td><td>0.45</td><td>0.3</td></tr><tr><td>0.25</td><td>0.16</td><td>0.47</td><td>0.1</td><td>0.43</td></tr><tr><td>0.0</td><td>0.18</td><td>0.26</td><td>0.7</td><td>0.04</td></tr><tr><td>0.0</td><td>0.02</td><td>0.06</td><td>0.87</td><td>0.07</td></tr><tr><td>0.12</td><td>0.05</td><td>0.31</td><td>0.69</td><td>0.0</td></tr><tr><td>0.0</td><td>0.0</td><td>0.0</td><td>1.0</td><td>0.0</td></tr><tr><td>0.29</td><td>0.14</td><td>0.49</td><td>0.03</td><td>0.48</td></tr><tr><td>0.05</td><td>0.26</td><td>0.52</td><td>0.3</td><td>0.18</td></tr><tr><td>0.0</td><td>0.0</td><td>0.11</td><td>0.8</td><td>0.09</td></tr><tr><td>0.0</td><td>0.01</td><td>0.1</td><td>0.42</td><td>0.48</td></tr></tbody></table></div>"
      ],
      "text/plain": [
       "shape: (10, 5)\n",
       "┌────────┬────────┬───────────────────┬───────────────────┬───────────────────┐\n",
       "│ pct_r0 ┆ pct_r1 ┆ pct_risk_inclined ┆ pct_risk_moderate ┆ pct_risk_avoidant │\n",
       "│ ---    ┆ ---    ┆ ---               ┆ ---               ┆ ---               │\n",
       "│ f64    ┆ f64    ┆ f64               ┆ f64               ┆ f64               │\n",
       "╞════════╪════════╪═══════════════════╪═══════════════════╪═══════════════════╡\n",
       "│ 0.05   ┆ 0.05   ┆ 0.25              ┆ 0.45              ┆ 0.3               │\n",
       "│ 0.25   ┆ 0.16   ┆ 0.47              ┆ 0.1               ┆ 0.43              │\n",
       "│ 0.0    ┆ 0.18   ┆ 0.26              ┆ 0.7               ┆ 0.04              │\n",
       "│ 0.0    ┆ 0.02   ┆ 0.06              ┆ 0.87              ┆ 0.07              │\n",
       "│ 0.12   ┆ 0.05   ┆ 0.31              ┆ 0.69              ┆ 0.0               │\n",
       "│ 0.0    ┆ 0.0    ┆ 0.0               ┆ 1.0               ┆ 0.0               │\n",
       "│ 0.29   ┆ 0.14   ┆ 0.49              ┆ 0.03              ┆ 0.48              │\n",
       "│ 0.05   ┆ 0.26   ┆ 0.52              ┆ 0.3               ┆ 0.18              │\n",
       "│ 0.0    ┆ 0.0    ┆ 0.11              ┆ 0.8               ┆ 0.09              │\n",
       "│ 0.0    ┆ 0.01   ┆ 0.1               ┆ 0.42              ┆ 0.48              │\n",
       "└────────┴────────┴───────────────────┴───────────────────┴───────────────────┘"
      ]
     },
     "execution_count": 16,
     "metadata": {},
     "output_type": "execute_result"
    }
   ],
   "source": [
    "# calculate percentages for each risk grouping\n",
    "\n",
    "#  Risk-inclined (RI) : r = 0, 1, 2\n",
    "#  Risk-moderate (RM): r = 3, 4, 5, 6\n",
    "#  Risk-avoidant (RA): r = 7, 8, 9\n",
    "\n",
    "df = df.with_columns(\n",
    "    pl.Series('pct_risk_inclined', values=df.select((pl.col(\"total_r0\") + pl.col(\"total_r1\") + pl.col(\"total_r2\")) / pl.col(\"total_agents\"))),\n",
    "    pl.Series('pct_risk_moderate', values=df.select((pl.col(\"total_r3\") + pl.col(\"total_r4\") + pl.col(\"total_r5\") + pl.col(\"total_r6\")) / pl.col(\"total_agents\"))),\n",
    "    pl.Series('pct_risk_avoidant', values=df.select((pl.col(\"total_r7\") + pl.col(\"total_r8\") + pl.col(\"total_r9\")) / pl.col(\"total_agents\")))\n",
    ")\n",
    "\n",
    "df[['pct_r0', 'pct_r1', 'pct_risk_inclined', 'pct_risk_moderate', 'pct_risk_avoidant']].head(10)"
   ]
  },
  {
   "cell_type": "markdown",
   "id": "e8963f90-2e0f-430c-9b7e-e75828b8f97a",
   "metadata": {},
   "source": [
    "## paired stastistical testing\n",
    "\n",
    "Use T-test to check pairs of parameters "
   ]
  },
  {
   "cell_type": "markdown",
   "id": "cd3a0e41-145f-4602-a77c-afae4ab21c3a",
   "metadata": {},
   "source": [
    "### risk adjustment (adopt / average)\n",
    "\n",
    "hypothesis: adjustment strategy does not have a significant impact on the final result, only affects how long it takes to get there"
   ]
  },
  {
   "cell_type": "code",
   "execution_count": 17,
   "id": "ae783eda-51ad-4c49-8eaa-df66e41b05ab",
   "metadata": {},
   "outputs": [
    {
     "name": "stdout",
     "output_type": "stream",
     "text": [
      "adopt: 200 rows\n",
      "average: 200 rows\n"
     ]
    },
    {
     "data": {
      "text/plain": [
       "TtestResult(statistic=array([-10.09625985]), pvalue=array([1.29076295e-19]), df=array([199]))"
      ]
     },
     "execution_count": 17,
     "metadata": {},
     "output_type": "execute_result"
    }
   ],
   "source": [
    "from scipy import stats\n",
    "\n",
    "\n",
    "# load data from a different run where only risk adjustment varies\n",
    "\n",
    "df_riskadjust = pl.read_csv(\"../data/hawkdovemulti/riskadjust_2024-02-20T202234_198160_model.csv\")\n",
    "\n",
    "# TODO: make reusable functions for annotating data\n",
    "\n",
    "for i in range(0, 10):\n",
    "    # calculate new series based on existing \n",
    "    pct_risk_category = df_riskadjust.select(pl.col(f\"total_r{i}\") / pl.col(\"total_agents\"))\n",
    "    # add new column to the dataframe\n",
    "    df_riskadjust = df_riskadjust.with_columns(pl.Series(name=f\"pct_r{i}\", values=pct_risk_category))\n",
    "\n",
    "df_riskadjust = df_riskadjust.with_columns(\n",
    "    pl.Series('pct_risk_inclined', values=df_riskadjust.select((pl.col(\"total_r0\") + pl.col(\"total_r1\") + pl.col(\"total_r2\")) / pl.col(\"total_agents\"))),\n",
    "    pl.Series('pct_risk_moderate', values=df_riskadjust.select((pl.col(\"total_r3\") + pl.col(\"total_r4\") + pl.col(\"total_r5\") + pl.col(\"total_r6\")) / pl.col(\"total_agents\"))),\n",
    "    pl.Series('pct_risk_avoidant', values=df_riskadjust.select((pl.col(\"total_r7\") + pl.col(\"total_r8\") + pl.col(\"total_r9\")) / pl.col(\"total_agents\")))\n",
    ")\n",
    "\n",
    "df_riskadjust = df_riskadjust.with_columns(pl.Series('risk_attitude_mean', values=df_riskadjust.select(\n",
    "        (pl.col(\"total_r1\") + pl.col(\"total_r2\")*2 + pl.col(\"total_r3\")*3 + pl.col(\"total_r4\")*4 + pl.col(\"total_r5\")*5 + pl.col(\"total_r6\")*6 + pl.col(\"total_r7\")*7 + pl.col(\"total_r8\")*8 + pl.col(\"total_r9\")*9)  \n",
    "         / pl.col(\"total_agents\"))))\n",
    "\n",
    "\n",
    "df_adopt = df_riskadjust.filter((pl.col(\"risk_adjustment\") == \"adopt\"))\n",
    "df_avg = df_riskadjust.filter((pl.col(\"risk_adjustment\") == \"average\"))\n",
    "\n",
    "print(f\"adopt: {df_adopt.shape[0]:,} rows\")\n",
    "print(f\"average: {df_avg.shape[0]:,} rows\")\n",
    "\n",
    "stats.ttest_rel(df_adopt.select(\"pct_risk_inclined\"), df_avg.select(\"pct_risk_inclined\"))"
   ]
  },
  {
   "cell_type": "code",
   "execution_count": 18,
   "id": "454adbf9-e565-4ed2-af7f-085b339f4bba",
   "metadata": {},
   "outputs": [
    {
     "data": {
      "text/plain": [
       "TtestResult(statistic=array([-17.94549027]), pvalue=array([1.82928695e-43]), df=array([199]))"
      ]
     },
     "execution_count": 18,
     "metadata": {},
     "output_type": "execute_result"
    }
   ],
   "source": [
    "stats.ttest_rel(df_adopt.select(\"pct_risk_moderate\"), df_avg.select(\"pct_risk_moderate\"))"
   ]
  },
  {
   "cell_type": "code",
   "execution_count": 19,
   "id": "1ab22f10-88c5-49f0-821e-a9393fd69ea8",
   "metadata": {},
   "outputs": [
    {
     "data": {
      "text/plain": [
       "TtestResult(statistic=array([30.72677834]), pvalue=array([1.77103269e-77]), df=array([199]))"
      ]
     },
     "execution_count": 19,
     "metadata": {},
     "output_type": "execute_result"
    }
   ],
   "source": [
    "stats.ttest_rel(df_adopt.select(\"pct_risk_avoidant\"), df_avg.select(\"pct_risk_avoidant\"))"
   ]
  },
  {
   "cell_type": "code",
   "execution_count": 20,
   "id": "8649bef7-2110-4399-a4cd-d1f4d63af9e4",
   "metadata": {},
   "outputs": [
    {
     "data": {
      "text/plain": [
       "TtestResult(statistic=array([12.85084099]), pvalue=array([6.4609322e-28]), df=array([199]))"
      ]
     },
     "execution_count": 20,
     "metadata": {},
     "output_type": "execute_result"
    }
   ],
   "source": [
    "stats.ttest_rel(df_adopt.select(\"risk_attitude_mean\"), df_avg.select(\"risk_attitude_mean\"))"
   ]
  },
  {
   "cell_type": "code",
   "execution_count": 21,
   "id": "0d668f23-248b-49f1-9f3b-1797ca36f15c",
   "metadata": {},
   "outputs": [
    {
     "data": {
      "text/html": [
       "<div><style>\n",
       ".dataframe > thead > tr,\n",
       ".dataframe > tbody > tr {\n",
       "  text-align: right;\n",
       "  white-space: pre-wrap;\n",
       "}\n",
       "</style>\n",
       "<small>shape: (9, 2)</small><table border=\"1\" class=\"dataframe\"><thead><tr><th>statistic</th><th>value</th></tr><tr><td>str</td><td>f64</td></tr></thead><tbody><tr><td>&quot;count&quot;</td><td>200.0</td></tr><tr><td>&quot;null_count&quot;</td><td>0.0</td></tr><tr><td>&quot;mean&quot;</td><td>118.465</td></tr><tr><td>&quot;std&quot;</td><td>41.070582</td></tr><tr><td>&quot;min&quot;</td><td>65.0</td></tr><tr><td>&quot;25%&quot;</td><td>93.0</td></tr><tr><td>&quot;50%&quot;</td><td>111.0</td></tr><tr><td>&quot;75%&quot;</td><td>135.0</td></tr><tr><td>&quot;max&quot;</td><td>403.0</td></tr></tbody></table></div>"
      ],
      "text/plain": [
       "shape: (9, 2)\n",
       "┌────────────┬───────────┐\n",
       "│ statistic  ┆ value     │\n",
       "│ ---        ┆ ---       │\n",
       "│ str        ┆ f64       │\n",
       "╞════════════╪═══════════╡\n",
       "│ count      ┆ 200.0     │\n",
       "│ null_count ┆ 0.0       │\n",
       "│ mean       ┆ 118.465   │\n",
       "│ std        ┆ 41.070582 │\n",
       "│ min        ┆ 65.0      │\n",
       "│ 25%        ┆ 93.0      │\n",
       "│ 50%        ┆ 111.0     │\n",
       "│ 75%        ┆ 135.0     │\n",
       "│ max        ┆ 403.0     │\n",
       "└────────────┴───────────┘"
      ]
     },
     "execution_count": 21,
     "metadata": {},
     "output_type": "execute_result"
    }
   ],
   "source": [
    "df_adopt[\"Step\"].describe()"
   ]
  },
  {
   "cell_type": "code",
   "execution_count": 22,
   "id": "b5e3f771-9bd8-449c-aee6-c2d2973835b0",
   "metadata": {},
   "outputs": [
    {
     "data": {
      "text/html": [
       "<div><style>\n",
       ".dataframe > thead > tr,\n",
       ".dataframe > tbody > tr {\n",
       "  text-align: right;\n",
       "  white-space: pre-wrap;\n",
       "}\n",
       "</style>\n",
       "<small>shape: (9, 2)</small><table border=\"1\" class=\"dataframe\"><thead><tr><th>statistic</th><th>value</th></tr><tr><td>str</td><td>f64</td></tr></thead><tbody><tr><td>&quot;count&quot;</td><td>200.0</td></tr><tr><td>&quot;null_count&quot;</td><td>0.0</td></tr><tr><td>&quot;mean&quot;</td><td>87.065</td></tr><tr><td>&quot;std&quot;</td><td>19.394367</td></tr><tr><td>&quot;min&quot;</td><td>64.0</td></tr><tr><td>&quot;25%&quot;</td><td>71.0</td></tr><tr><td>&quot;50%&quot;</td><td>81.0</td></tr><tr><td>&quot;75%&quot;</td><td>96.0</td></tr><tr><td>&quot;max&quot;</td><td>155.0</td></tr></tbody></table></div>"
      ],
      "text/plain": [
       "shape: (9, 2)\n",
       "┌────────────┬───────────┐\n",
       "│ statistic  ┆ value     │\n",
       "│ ---        ┆ ---       │\n",
       "│ str        ┆ f64       │\n",
       "╞════════════╪═══════════╡\n",
       "│ count      ┆ 200.0     │\n",
       "│ null_count ┆ 0.0       │\n",
       "│ mean       ┆ 87.065    │\n",
       "│ std        ┆ 19.394367 │\n",
       "│ min        ┆ 64.0      │\n",
       "│ 25%        ┆ 71.0      │\n",
       "│ 50%        ┆ 81.0      │\n",
       "│ 75%        ┆ 96.0      │\n",
       "│ max        ┆ 155.0     │\n",
       "└────────────┴───────────┘"
      ]
     },
     "execution_count": 22,
     "metadata": {},
     "output_type": "execute_result"
    }
   ],
   "source": [
    "df_avg[\"Step\"].describe()"
   ]
  },
  {
   "cell_type": "code",
   "execution_count": 52,
   "id": "67f9ef6e-73ac-450c-9d3b-78a45f24beec",
   "metadata": {},
   "outputs": [
    {
     "data": {
      "text/html": [
       "\n",
       "<style>\n",
       "  #altair-viz-12fe04270c0e41b298385fd105bc75d1.vega-embed {\n",
       "    width: 100%;\n",
       "    display: flex;\n",
       "  }\n",
       "\n",
       "  #altair-viz-12fe04270c0e41b298385fd105bc75d1.vega-embed details,\n",
       "  #altair-viz-12fe04270c0e41b298385fd105bc75d1.vega-embed details summary {\n",
       "    position: relative;\n",
       "  }\n",
       "</style>\n",
       "<div id=\"altair-viz-12fe04270c0e41b298385fd105bc75d1\"></div>\n",
       "<script type=\"text/javascript\">\n",
       "  var VEGA_DEBUG = (typeof VEGA_DEBUG == \"undefined\") ? {} : VEGA_DEBUG;\n",
       "  (function(spec, embedOpt){\n",
       "    let outputDiv = document.currentScript.previousElementSibling;\n",
       "    if (outputDiv.id !== \"altair-viz-12fe04270c0e41b298385fd105bc75d1\") {\n",
       "      outputDiv = document.getElementById(\"altair-viz-12fe04270c0e41b298385fd105bc75d1\");\n",
       "    }\n",
       "\n",
       "    const paths = {\n",
       "      \"vega\": \"https://cdn.jsdelivr.net/npm/vega@5?noext\",\n",
       "      \"vega-lib\": \"https://cdn.jsdelivr.net/npm/vega-lib?noext\",\n",
       "      \"vega-lite\": \"https://cdn.jsdelivr.net/npm/vega-lite@5.20.1?noext\",\n",
       "      \"vega-embed\": \"https://cdn.jsdelivr.net/npm/vega-embed@6?noext\",\n",
       "    };\n",
       "\n",
       "    function maybeLoadScript(lib, version) {\n",
       "      var key = `${lib.replace(\"-\", \"\")}_version`;\n",
       "      return (VEGA_DEBUG[key] == version) ?\n",
       "        Promise.resolve(paths[lib]) :\n",
       "        new Promise(function(resolve, reject) {\n",
       "          var s = document.createElement('script');\n",
       "          document.getElementsByTagName(\"head\")[0].appendChild(s);\n",
       "          s.async = true;\n",
       "          s.onload = () => {\n",
       "            VEGA_DEBUG[key] = version;\n",
       "            return resolve(paths[lib]);\n",
       "          };\n",
       "          s.onerror = () => reject(`Error loading script: ${paths[lib]}`);\n",
       "          s.src = paths[lib];\n",
       "        });\n",
       "    }\n",
       "\n",
       "    function showError(err) {\n",
       "      outputDiv.innerHTML = `<div class=\"error\" style=\"color:red;\">${err}</div>`;\n",
       "      throw err;\n",
       "    }\n",
       "\n",
       "    function displayChart(vegaEmbed) {\n",
       "      vegaEmbed(outputDiv, spec, embedOpt)\n",
       "        .catch(err => showError(`Javascript Error: ${err.message}<br>This usually means there's a typo in your chart specification. See the javascript console for the full traceback.`));\n",
       "    }\n",
       "\n",
       "    if(typeof define === \"function\" && define.amd) {\n",
       "      requirejs.config({paths});\n",
       "      let deps = [\"vega-embed\"];\n",
       "      require(deps, displayChart, err => showError(`Error loading script: ${err.message}`));\n",
       "    } else {\n",
       "      maybeLoadScript(\"vega\", \"5\")\n",
       "        .then(() => maybeLoadScript(\"vega-lite\", \"5.20.1\"))\n",
       "        .then(() => maybeLoadScript(\"vega-embed\", \"6\"))\n",
       "        .catch(showError)\n",
       "        .then(() => displayChart(vegaEmbed));\n",
       "    }\n",
       "  })({\"$schema\": \"https://vega.github.io/schema/vega/v5.json\", \"data\": [{\"name\": \"source_0\"}, {\"name\": \"data_0\", \"values\": [{\"lower_box_Step\": 92.5, \"lower_whisker_Step\": 65, \"mid_box_Step\": 111, \"risk_adjustment\": \"adopt\", \"upper_box_Step\": 135.0, \"upper_whisker_Step\": 403}, {\"lower_box_Step\": 70.75, \"lower_whisker_Step\": 64, \"mid_box_Step\": 80, \"risk_adjustment\": \"average\", \"upper_box_Step\": 96.5, \"upper_whisker_Step\": 155}]}, {\"name\": \"data_1\", \"values\": [{\"lower_box_Step\": 92.5, \"lower_whisker_Step\": 65, \"mid_box_Step\": 111, \"risk_adjustment\": \"adopt\", \"upper_box_Step\": 135.0, \"upper_whisker_Step\": 403}, {\"lower_box_Step\": 70.75, \"lower_whisker_Step\": 64, \"mid_box_Step\": 80, \"risk_adjustment\": \"average\", \"upper_box_Step\": 96.5, \"upper_whisker_Step\": 155}]}, {\"name\": \"data_2\", \"values\": [{\"lower_box_Step\": 92.5, \"lower_whisker_Step\": 65, \"mid_box_Step\": 111, \"risk_adjustment\": \"adopt\", \"upper_box_Step\": 135.0, \"upper_whisker_Step\": 403}, {\"lower_box_Step\": 70.75, \"lower_whisker_Step\": 64, \"mid_box_Step\": 80, \"risk_adjustment\": \"average\", \"upper_box_Step\": 96.5, \"upper_whisker_Step\": 155}]}, {\"name\": \"data_3\", \"values\": [{\"lower_box_Step\": 92.5, \"lower_whisker_Step\": 65, \"mid_box_Step\": 111, \"risk_adjustment\": \"adopt\", \"upper_box_Step\": 135.0, \"upper_whisker_Step\": 403}, {\"lower_box_Step\": 70.75, \"lower_whisker_Step\": 64, \"mid_box_Step\": 80, \"risk_adjustment\": \"average\", \"upper_box_Step\": 96.5, \"upper_whisker_Step\": 155}]}, {\"name\": \"data_0_y_domain_risk_adjustment_0\", \"values\": [{\"risk_adjustment\": \"adopt\"}, {\"risk_adjustment\": \"average\"}]}, {\"name\": \"data_1_y_domain_risk_adjustment_1\", \"values\": [{\"risk_adjustment\": \"adopt\"}, {\"risk_adjustment\": \"average\"}]}, {\"name\": \"data_2_y_domain_risk_adjustment_2\", \"values\": [{\"risk_adjustment\": \"adopt\"}, {\"risk_adjustment\": \"average\"}]}, {\"name\": \"data_3_y_domain_risk_adjustment_3\", \"values\": [{\"risk_adjustment\": \"adopt\"}, {\"risk_adjustment\": \"average\"}]}], \"signals\": [{\"name\": \"y_step\", \"value\": 20}, {\"name\": \"height\", \"update\": \"bandspace(domain('y').length, 0, 0) * y_step\"}], \"marks\": [{\"type\": \"rule\", \"name\": \"layer_0_marks\", \"from\": {\"data\": \"data_0\"}, \"encode\": {\"update\": {\"stroke\": {\"value\": \"black\"}, \"tooltip\": {\"signal\": \"{\\\"Max of Simulation length\\\": format(datum[\\\"upper_whisker_Step\\\"], \\\"\\\"), \\\"Q3 of Simulation length\\\": format(datum[\\\"upper_box_Step\\\"], \\\"\\\"), \\\"Median of Simulation length\\\": format(datum[\\\"mid_box_Step\\\"], \\\"\\\"), \\\"Q1 of Simulation length\\\": format(datum[\\\"lower_box_Step\\\"], \\\"\\\"), \\\"Min of Simulation length\\\": format(datum[\\\"lower_whisker_Step\\\"], \\\"\\\"), \\\"risk_adjustment\\\": isValid(datum[\\\"risk_adjustment\\\"]) ? datum[\\\"risk_adjustment\\\"] : \\\"\\\"+datum[\\\"risk_adjustment\\\"]}\"}, \"x\": {\"field\": \"lower_whisker_Step\", \"scale\": \"x\"}, \"x2\": {\"field\": \"lower_box_Step\", \"scale\": \"x\"}, \"y\": {\"field\": \"risk_adjustment\", \"scale\": \"y\", \"band\": 0.5}}}, \"aria\": false, \"style\": [\"rule\", \"boxplot-rule\"]}, {\"type\": \"rule\", \"name\": \"layer_1_marks\", \"from\": {\"data\": \"data_1\"}, \"encode\": {\"update\": {\"x2\": {\"field\": \"upper_whisker_Step\", \"scale\": \"x\"}, \"x\": {\"field\": \"upper_box_Step\", \"scale\": \"x\"}, \"stroke\": {\"value\": \"black\"}, \"y\": {\"field\": \"risk_adjustment\", \"scale\": \"y\", \"band\": 0.5}, \"tooltip\": {\"signal\": \"{\\\"Max of Simulation length\\\": format(datum[\\\"upper_whisker_Step\\\"], \\\"\\\"), \\\"Q3 of Simulation length\\\": format(datum[\\\"upper_box_Step\\\"], \\\"\\\"), \\\"Median of Simulation length\\\": format(datum[\\\"mid_box_Step\\\"], \\\"\\\"), \\\"Q1 of Simulation length\\\": format(datum[\\\"lower_box_Step\\\"], \\\"\\\"), \\\"Min of Simulation length\\\": format(datum[\\\"lower_whisker_Step\\\"], \\\"\\\"), \\\"risk_adjustment\\\": isValid(datum[\\\"risk_adjustment\\\"]) ? datum[\\\"risk_adjustment\\\"] : \\\"\\\"+datum[\\\"risk_adjustment\\\"]}\"}}}, \"style\": [\"rule\", \"boxplot-rule\"], \"aria\": false}, {\"type\": \"rect\", \"name\": \"layer_2_marks\", \"from\": {\"data\": \"data_2\"}, \"encode\": {\"update\": {\"x\": {\"field\": \"lower_box_Step\", \"scale\": \"x\"}, \"fill\": {\"value\": \"#4c78a8\"}, \"height\": {\"value\": 14}, \"tooltip\": {\"signal\": \"{\\\"Max of Simulation length\\\": format(datum[\\\"upper_whisker_Step\\\"], \\\"\\\"), \\\"Q3 of Simulation length\\\": format(datum[\\\"upper_box_Step\\\"], \\\"\\\"), \\\"Median of Simulation length\\\": format(datum[\\\"mid_box_Step\\\"], \\\"\\\"), \\\"Q1 of Simulation length\\\": format(datum[\\\"lower_box_Step\\\"], \\\"\\\"), \\\"Min of Simulation length\\\": format(datum[\\\"lower_whisker_Step\\\"], \\\"\\\"), \\\"risk_adjustment\\\": isValid(datum[\\\"risk_adjustment\\\"]) ? datum[\\\"risk_adjustment\\\"] : \\\"\\\"+datum[\\\"risk_adjustment\\\"]}\"}, \"x2\": {\"field\": \"upper_box_Step\", \"scale\": \"x\"}, \"yc\": {\"field\": \"risk_adjustment\", \"scale\": \"y\", \"band\": 0.5}}}, \"style\": [\"bar\", \"boxplot-box\"]}, {\"type\": \"rect\", \"name\": \"layer_3_marks\", \"from\": {\"data\": \"data_3\"}, \"encode\": {\"update\": {\"height\": {\"value\": 14}, \"fill\": [{\"value\": \"#4c78a8\", \"test\": \"datum['lower_box_Step'] >= datum['upper_box_Step']\"}, {\"value\": \"white\"}], \"opacity\": {\"value\": 0.7}, \"tooltip\": {\"signal\": \"{\\\"Max of Simulation length\\\": format(datum[\\\"upper_whisker_Step\\\"], \\\"\\\"), \\\"Q3 of Simulation length\\\": format(datum[\\\"upper_box_Step\\\"], \\\"\\\"), \\\"Median of Simulation length\\\": format(datum[\\\"mid_box_Step\\\"], \\\"\\\"), \\\"Q1 of Simulation length\\\": format(datum[\\\"lower_box_Step\\\"], \\\"\\\"), \\\"Min of Simulation length\\\": format(datum[\\\"lower_whisker_Step\\\"], \\\"\\\"), \\\"risk_adjustment\\\": isValid(datum[\\\"risk_adjustment\\\"]) ? datum[\\\"risk_adjustment\\\"] : \\\"\\\"+datum[\\\"risk_adjustment\\\"]}\"}, \"yc\": {\"field\": \"risk_adjustment\", \"scale\": \"y\", \"band\": 0.5}, \"width\": {\"value\": 1}, \"xc\": {\"field\": \"mid_box_Step\", \"scale\": \"x\"}}}, \"style\": [\"tick\", \"boxplot-median\"], \"aria\": false}], \"scales\": [{\"name\": \"x\", \"type\": \"linear\", \"domain\": {\"fields\": [{\"data\": \"data_0\", \"field\": \"lower_whisker_Step\"}, {\"data\": \"data_0\", \"field\": \"lower_box_Step\"}, {\"data\": \"data_1\", \"field\": \"upper_box_Step\"}, {\"data\": \"data_1\", \"field\": \"upper_whisker_Step\"}, {\"data\": \"data_2\", \"field\": \"lower_box_Step\"}, {\"data\": \"data_2\", \"field\": \"upper_box_Step\"}, {\"data\": \"data_3\", \"field\": \"mid_box_Step\"}]}, \"range\": [0, {\"signal\": \"width\"}], \"nice\": true, \"zero\": true}, {\"name\": \"y\", \"type\": \"band\", \"domain\": {\"fields\": [{\"data\": \"data_0_y_domain_risk_adjustment_0\", \"field\": \"risk_adjustment\"}, {\"data\": \"data_1_y_domain_risk_adjustment_1\", \"field\": \"risk_adjustment\"}, {\"data\": \"data_2_y_domain_risk_adjustment_2\", \"field\": \"risk_adjustment\"}, {\"data\": \"data_3_y_domain_risk_adjustment_3\", \"field\": \"risk_adjustment\"}], \"sort\": true}, \"range\": {\"step\": {\"signal\": \"y_step\"}}, \"paddingInner\": 0, \"paddingOuter\": 0}], \"axes\": [{\"scale\": \"x\", \"maxExtent\": 0, \"zindex\": 0, \"ticks\": false, \"grid\": true, \"tickCount\": {\"signal\": \"ceil(width/40)\"}, \"aria\": false, \"gridScale\": \"y\", \"orient\": \"bottom\", \"domain\": false, \"minExtent\": 0, \"labels\": false}, {\"scale\": \"x\", \"labelOverlap\": true, \"tickCount\": {\"signal\": \"ceil(width/40)\"}, \"zindex\": 0, \"orient\": \"bottom\", \"grid\": false, \"title\": \"Simulation length\", \"labelFlush\": true}, {\"scale\": \"y\", \"grid\": false, \"zindex\": 0, \"orient\": \"left\"}], \"title\": {\"text\": \"Simulation length by Risk Attitude Adjustment Strategy\", \"frame\": \"group\"}, \"padding\": 5, \"width\": 300, \"background\": \"white\", \"style\": \"cell\"}, {\"mode\": \"vega\"});\n",
       "</script>"
      ],
      "text/plain": [
       "alt.Chart(...)"
      ]
     },
     "execution_count": 52,
     "metadata": {},
     "output_type": "execute_result"
    }
   ],
   "source": [
    "alt.Chart(df_riskadjust).mark_boxplot(extent=\"min-max\").encode(\n",
    "    x=alt.X(\"Step\", title=\"Simulation length\"),\n",
    "    y=alt.Y(\"risk_adjustment\", title=\"\")\n",
    ").properties(title=\"Simulation length by Risk Attitude Adjustment Strategy\")"
   ]
  },
  {
   "cell_type": "markdown",
   "id": "0a3e9b71-2069-4dc1-9c5d-2764d919a840",
   "metadata": {},
   "source": [
    "### adjustment payoff comparison (recent vs total)"
   ]
  },
  {
   "cell_type": "code",
   "execution_count": 31,
   "id": "3701961d-ead8-49bd-91e9-44180581e547",
   "metadata": {},
   "outputs": [
    {
     "data": {
      "text/html": [
       "<div><style>\n",
       ".dataframe > thead > tr,\n",
       ".dataframe > tbody > tr {\n",
       "  text-align: right;\n",
       "  white-space: pre-wrap;\n",
       "}\n",
       "</style>\n",
       "<small>shape: (2, 2)</small><table border=\"1\" class=\"dataframe\"><thead><tr><th>adjust_payoff</th><th>count</th></tr><tr><td>str</td><td>u32</td></tr></thead><tbody><tr><td>&quot;recent&quot;</td><td>200</td></tr><tr><td>&quot;total&quot;</td><td>200</td></tr></tbody></table></div>"
      ],
      "text/plain": [
       "shape: (2, 2)\n",
       "┌───────────────┬───────┐\n",
       "│ adjust_payoff ┆ count │\n",
       "│ ---           ┆ ---   │\n",
       "│ str           ┆ u32   │\n",
       "╞═══════════════╪═══════╡\n",
       "│ recent        ┆ 200   │\n",
       "│ total         ┆ 200   │\n",
       "└───────────────┴───────┘"
      ]
     },
     "execution_count": 31,
     "metadata": {},
     "output_type": "execute_result"
    }
   ],
   "source": [
    "df_payoff = pl.read_csv(\"../data/hawkdovemulti/payoff_2024-02-20T220514_546573_model.csv\")\n",
    "\n",
    "df_payoff[\"adjust_payoff\"].value_counts()"
   ]
  },
  {
   "cell_type": "code",
   "execution_count": 32,
   "id": "ead31909-c844-4289-8b43-076e57f1a680",
   "metadata": {},
   "outputs": [
    {
     "data": {
      "text/plain": [
       "TtestResult(statistic=array([0.3840643]), pvalue=array([0.70134085]), df=array([199]))"
      ]
     },
     "execution_count": 32,
     "metadata": {},
     "output_type": "execute_result"
    }
   ],
   "source": [
    "# TODO: make reusable functions for annotating data\n",
    "\n",
    "for i in range(0, 10):\n",
    "    # calculate new series based on existing \n",
    "    pct_risk_category = df_payoff.select(pl.col(f\"total_r{i}\") / pl.col(\"total_agents\"))\n",
    "    # add new column to the dataframe\n",
    "    df_payoff = df_payoff.with_columns(pl.Series(name=f\"pct_r{i}\", values=pct_risk_category))\n",
    "\n",
    "df_payoff = df_payoff.with_columns(\n",
    "    pl.Series('pct_risk_inclined', values=df_payoff.select((pl.col(\"total_r0\") + pl.col(\"total_r1\") + pl.col(\"total_r2\")) / pl.col(\"total_agents\"))),\n",
    "    pl.Series('pct_risk_moderate', values=df_payoff.select((pl.col(\"total_r3\") + pl.col(\"total_r4\") + pl.col(\"total_r5\") + pl.col(\"total_r6\")) / pl.col(\"total_agents\"))),\n",
    "    pl.Series('pct_risk_avoidant', values=df_payoff.select((pl.col(\"total_r7\") + pl.col(\"total_r8\") + pl.col(\"total_r9\")) / pl.col(\"total_agents\")))\n",
    ")\n",
    "\n",
    "df_payoff = df_payoff.with_columns(pl.Series('risk_attitude_mean', values=df_payoff.select(\n",
    "        (pl.col(\"total_r1\") + pl.col(\"total_r2\")*2 + pl.col(\"total_r3\")*3 + pl.col(\"total_r4\")*4 + pl.col(\"total_r5\")*5 + pl.col(\"total_r6\")*6 + pl.col(\"total_r7\")*7 + pl.col(\"total_r8\")*8 + pl.col(\"total_r9\")*9)  \n",
    "         / pl.col(\"total_agents\"))))\n",
    "\n",
    "\n",
    "df_recent = df_payoff.filter((pl.col(\"adjust_payoff\") == \"recent\"))\n",
    "df_total = df_payoff.filter((pl.col(\"adjust_payoff\") == \"total\"))\n",
    "\n",
    "stats.ttest_rel(df_recent.select(\"pct_risk_inclined\"), df_total.select(\"pct_risk_inclined\"))"
   ]
  },
  {
   "cell_type": "code",
   "execution_count": 33,
   "id": "5e0de6d3-8e19-4894-bfb6-6d3f24f65021",
   "metadata": {},
   "outputs": [
    {
     "data": {
      "text/plain": [
       "TtestResult(statistic=array([-0.03284255]), pvalue=array([0.97383306]), df=array([199]))"
      ]
     },
     "execution_count": 33,
     "metadata": {},
     "output_type": "execute_result"
    }
   ],
   "source": [
    "stats.ttest_rel(df_recent.select(\"pct_risk_moderate\"), df_total.select(\"pct_risk_moderate\"))"
   ]
  },
  {
   "cell_type": "code",
   "execution_count": 34,
   "id": "f5b5f56d-c2f5-4d76-be88-bc8e9e2e2121",
   "metadata": {},
   "outputs": [
    {
     "data": {
      "text/plain": [
       "TtestResult(statistic=array([-0.34960905]), pvalue=array([0.72700182]), df=array([199]))"
      ]
     },
     "execution_count": 34,
     "metadata": {},
     "output_type": "execute_result"
    }
   ],
   "source": [
    "stats.ttest_rel(df_recent.select(\"pct_risk_avoidant\"), df_total.select(\"pct_risk_avoidant\"))"
   ]
  },
  {
   "cell_type": "code",
   "execution_count": 35,
   "id": "a2dcbb25-b031-4a24-ad3f-b2a7e19eed47",
   "metadata": {},
   "outputs": [
    {
     "data": {
      "text/plain": [
       "TtestResult(statistic=array([-0.24279719]), pvalue=array([0.80841258]), df=array([199]))"
      ]
     },
     "execution_count": 35,
     "metadata": {},
     "output_type": "execute_result"
    }
   ],
   "source": [
    "stats.ttest_rel(df_recent.select(\"risk_attitude_mean\"), df_total.select(\"risk_attitude_mean\"))"
   ]
  },
  {
   "cell_type": "code",
   "execution_count": 41,
   "id": "1d59422f-b58d-47ca-a6d7-0a145dc5c232",
   "metadata": {},
   "outputs": [
    {
     "data": {
      "text/html": [
       "\n",
       "<style>\n",
       "  #altair-viz-db96229d9362494b82b9623e3a68d8f3.vega-embed {\n",
       "    width: 100%;\n",
       "    display: flex;\n",
       "  }\n",
       "\n",
       "  #altair-viz-db96229d9362494b82b9623e3a68d8f3.vega-embed details,\n",
       "  #altair-viz-db96229d9362494b82b9623e3a68d8f3.vega-embed details summary {\n",
       "    position: relative;\n",
       "  }\n",
       "</style>\n",
       "<div id=\"altair-viz-db96229d9362494b82b9623e3a68d8f3\"></div>\n",
       "<script type=\"text/javascript\">\n",
       "  var VEGA_DEBUG = (typeof VEGA_DEBUG == \"undefined\") ? {} : VEGA_DEBUG;\n",
       "  (function(spec, embedOpt){\n",
       "    let outputDiv = document.currentScript.previousElementSibling;\n",
       "    if (outputDiv.id !== \"altair-viz-db96229d9362494b82b9623e3a68d8f3\") {\n",
       "      outputDiv = document.getElementById(\"altair-viz-db96229d9362494b82b9623e3a68d8f3\");\n",
       "    }\n",
       "\n",
       "    const paths = {\n",
       "      \"vega\": \"https://cdn.jsdelivr.net/npm/vega@5?noext\",\n",
       "      \"vega-lib\": \"https://cdn.jsdelivr.net/npm/vega-lib?noext\",\n",
       "      \"vega-lite\": \"https://cdn.jsdelivr.net/npm/vega-lite@5.20.1?noext\",\n",
       "      \"vega-embed\": \"https://cdn.jsdelivr.net/npm/vega-embed@6?noext\",\n",
       "    };\n",
       "\n",
       "    function maybeLoadScript(lib, version) {\n",
       "      var key = `${lib.replace(\"-\", \"\")}_version`;\n",
       "      return (VEGA_DEBUG[key] == version) ?\n",
       "        Promise.resolve(paths[lib]) :\n",
       "        new Promise(function(resolve, reject) {\n",
       "          var s = document.createElement('script');\n",
       "          document.getElementsByTagName(\"head\")[0].appendChild(s);\n",
       "          s.async = true;\n",
       "          s.onload = () => {\n",
       "            VEGA_DEBUG[key] = version;\n",
       "            return resolve(paths[lib]);\n",
       "          };\n",
       "          s.onerror = () => reject(`Error loading script: ${paths[lib]}`);\n",
       "          s.src = paths[lib];\n",
       "        });\n",
       "    }\n",
       "\n",
       "    function showError(err) {\n",
       "      outputDiv.innerHTML = `<div class=\"error\" style=\"color:red;\">${err}</div>`;\n",
       "      throw err;\n",
       "    }\n",
       "\n",
       "    function displayChart(vegaEmbed) {\n",
       "      vegaEmbed(outputDiv, spec, embedOpt)\n",
       "        .catch(err => showError(`Javascript Error: ${err.message}<br>This usually means there's a typo in your chart specification. See the javascript console for the full traceback.`));\n",
       "    }\n",
       "\n",
       "    if(typeof define === \"function\" && define.amd) {\n",
       "      requirejs.config({paths});\n",
       "      let deps = [\"vega-embed\"];\n",
       "      require(deps, displayChart, err => showError(`Error loading script: ${err.message}`));\n",
       "    } else {\n",
       "      maybeLoadScript(\"vega\", \"5\")\n",
       "        .then(() => maybeLoadScript(\"vega-lite\", \"5.20.1\"))\n",
       "        .then(() => maybeLoadScript(\"vega-embed\", \"6\"))\n",
       "        .catch(showError)\n",
       "        .then(() => displayChart(vegaEmbed));\n",
       "    }\n",
       "  })({\"$schema\": \"https://vega.github.io/schema/vega/v5.json\", \"data\": [{\"name\": \"source_0\"}, {\"name\": \"data_0\", \"values\": [{\"adjust_payoff\": \"recent\", \"lower_box_pct_risk_inclined\": 0.288, \"lower_whisker_pct_risk_inclined\": 0.2464, \"mid_box_pct_risk_inclined\": 0.3008, \"upper_box_pct_risk_inclined\": 0.3136, \"upper_whisker_pct_risk_inclined\": 0.3456}, {\"adjust_payoff\": \"total\", \"lower_box_pct_risk_inclined\": 0.2848, \"lower_whisker_pct_risk_inclined\": 0.2496, \"mid_box_pct_risk_inclined\": 0.3008, \"upper_box_pct_risk_inclined\": 0.312, \"upper_whisker_pct_risk_inclined\": 0.3456}]}, {\"name\": \"data_1\", \"values\": [{\"adjust_payoff\": \"recent\", \"lower_box_pct_risk_inclined\": 0.288, \"lower_whisker_pct_risk_inclined\": 0.2464, \"mid_box_pct_risk_inclined\": 0.3008, \"upper_box_pct_risk_inclined\": 0.3136, \"upper_whisker_pct_risk_inclined\": 0.3456}, {\"adjust_payoff\": \"total\", \"lower_box_pct_risk_inclined\": 0.2848, \"lower_whisker_pct_risk_inclined\": 0.2496, \"mid_box_pct_risk_inclined\": 0.3008, \"upper_box_pct_risk_inclined\": 0.312, \"upper_whisker_pct_risk_inclined\": 0.3456}]}, {\"name\": \"data_2\", \"values\": [{\"adjust_payoff\": \"recent\", \"lower_box_pct_risk_inclined\": 0.288, \"lower_whisker_pct_risk_inclined\": 0.2464, \"mid_box_pct_risk_inclined\": 0.3008, \"upper_box_pct_risk_inclined\": 0.3136, \"upper_whisker_pct_risk_inclined\": 0.3456}, {\"adjust_payoff\": \"total\", \"lower_box_pct_risk_inclined\": 0.2848, \"lower_whisker_pct_risk_inclined\": 0.2496, \"mid_box_pct_risk_inclined\": 0.3008, \"upper_box_pct_risk_inclined\": 0.312, \"upper_whisker_pct_risk_inclined\": 0.3456}]}, {\"name\": \"data_3\", \"values\": [{\"adjust_payoff\": \"recent\", \"lower_box_pct_risk_inclined\": 0.288, \"lower_whisker_pct_risk_inclined\": 0.2464, \"mid_box_pct_risk_inclined\": 0.3008, \"upper_box_pct_risk_inclined\": 0.3136, \"upper_whisker_pct_risk_inclined\": 0.3456}, {\"adjust_payoff\": \"total\", \"lower_box_pct_risk_inclined\": 0.2848, \"lower_whisker_pct_risk_inclined\": 0.2496, \"mid_box_pct_risk_inclined\": 0.3008, \"upper_box_pct_risk_inclined\": 0.312, \"upper_whisker_pct_risk_inclined\": 0.3456}]}, {\"name\": \"data_0_y_domain_adjust_payoff_0\", \"values\": [{\"adjust_payoff\": \"recent\"}, {\"adjust_payoff\": \"total\"}]}, {\"name\": \"data_1_y_domain_adjust_payoff_1\", \"values\": [{\"adjust_payoff\": \"recent\"}, {\"adjust_payoff\": \"total\"}]}, {\"name\": \"data_2_y_domain_adjust_payoff_2\", \"values\": [{\"adjust_payoff\": \"recent\"}, {\"adjust_payoff\": \"total\"}]}, {\"name\": \"data_3_y_domain_adjust_payoff_3\", \"values\": [{\"adjust_payoff\": \"recent\"}, {\"adjust_payoff\": \"total\"}]}], \"signals\": [{\"name\": \"y_step\", \"value\": 20}, {\"name\": \"height\", \"update\": \"bandspace(domain('y').length, 0, 0) * y_step\"}], \"marks\": [{\"type\": \"rule\", \"name\": \"layer_0_marks\", \"from\": {\"data\": \"data_0\"}, \"encode\": {\"update\": {\"x\": {\"field\": \"lower_whisker_pct_risk_inclined\", \"scale\": \"x\"}, \"x2\": {\"field\": \"lower_box_pct_risk_inclined\", \"scale\": \"x\"}, \"y\": {\"field\": \"adjust_payoff\", \"scale\": \"y\", \"band\": 0.5}, \"tooltip\": {\"signal\": \"{\\\"Max of % Risk Inclined\\\": format(datum[\\\"upper_whisker_pct_risk_inclined\\\"], \\\"\\\"), \\\"Q3 of % Risk Inclined\\\": format(datum[\\\"upper_box_pct_risk_inclined\\\"], \\\"\\\"), \\\"Median of % Risk Inclined\\\": format(datum[\\\"mid_box_pct_risk_inclined\\\"], \\\"\\\"), \\\"Q1 of % Risk Inclined\\\": format(datum[\\\"lower_box_pct_risk_inclined\\\"], \\\"\\\"), \\\"Min of % Risk Inclined\\\": format(datum[\\\"lower_whisker_pct_risk_inclined\\\"], \\\"\\\"), \\\"Adjustment payoff\\\": isValid(datum[\\\"adjust_payoff\\\"]) ? datum[\\\"adjust_payoff\\\"] : \\\"\\\"+datum[\\\"adjust_payoff\\\"]}\"}, \"stroke\": {\"value\": \"black\"}}}, \"style\": [\"rule\", \"boxplot-rule\"], \"aria\": false}, {\"type\": \"rule\", \"name\": \"layer_1_marks\", \"from\": {\"data\": \"data_1\"}, \"encode\": {\"update\": {\"y\": {\"field\": \"adjust_payoff\", \"scale\": \"y\", \"band\": 0.5}, \"stroke\": {\"value\": \"black\"}, \"x\": {\"field\": \"upper_box_pct_risk_inclined\", \"scale\": \"x\"}, \"tooltip\": {\"signal\": \"{\\\"Max of % Risk Inclined\\\": format(datum[\\\"upper_whisker_pct_risk_inclined\\\"], \\\"\\\"), \\\"Q3 of % Risk Inclined\\\": format(datum[\\\"upper_box_pct_risk_inclined\\\"], \\\"\\\"), \\\"Median of % Risk Inclined\\\": format(datum[\\\"mid_box_pct_risk_inclined\\\"], \\\"\\\"), \\\"Q1 of % Risk Inclined\\\": format(datum[\\\"lower_box_pct_risk_inclined\\\"], \\\"\\\"), \\\"Min of % Risk Inclined\\\": format(datum[\\\"lower_whisker_pct_risk_inclined\\\"], \\\"\\\"), \\\"Adjustment payoff\\\": isValid(datum[\\\"adjust_payoff\\\"]) ? datum[\\\"adjust_payoff\\\"] : \\\"\\\"+datum[\\\"adjust_payoff\\\"]}\"}, \"x2\": {\"field\": \"upper_whisker_pct_risk_inclined\", \"scale\": \"x\"}}}, \"aria\": false, \"style\": [\"rule\", \"boxplot-rule\"]}, {\"type\": \"rect\", \"name\": \"layer_2_marks\", \"from\": {\"data\": \"data_2\"}, \"encode\": {\"update\": {\"fill\": {\"value\": \"#4c78a8\"}, \"tooltip\": {\"signal\": \"{\\\"Max of % Risk Inclined\\\": format(datum[\\\"upper_whisker_pct_risk_inclined\\\"], \\\"\\\"), \\\"Q3 of % Risk Inclined\\\": format(datum[\\\"upper_box_pct_risk_inclined\\\"], \\\"\\\"), \\\"Median of % Risk Inclined\\\": format(datum[\\\"mid_box_pct_risk_inclined\\\"], \\\"\\\"), \\\"Q1 of % Risk Inclined\\\": format(datum[\\\"lower_box_pct_risk_inclined\\\"], \\\"\\\"), \\\"Min of % Risk Inclined\\\": format(datum[\\\"lower_whisker_pct_risk_inclined\\\"], \\\"\\\"), \\\"Adjustment payoff\\\": isValid(datum[\\\"adjust_payoff\\\"]) ? datum[\\\"adjust_payoff\\\"] : \\\"\\\"+datum[\\\"adjust_payoff\\\"]}\"}, \"yc\": {\"field\": \"adjust_payoff\", \"scale\": \"y\", \"band\": 0.5}, \"x2\": {\"field\": \"upper_box_pct_risk_inclined\", \"scale\": \"x\"}, \"x\": {\"field\": \"lower_box_pct_risk_inclined\", \"scale\": \"x\"}, \"height\": {\"value\": 14}}}, \"style\": [\"bar\", \"boxplot-box\"]}, {\"type\": \"rect\", \"name\": \"layer_3_marks\", \"from\": {\"data\": \"data_3\"}, \"encode\": {\"update\": {\"opacity\": {\"value\": 0.7}, \"fill\": [{\"value\": \"#4c78a8\", \"test\": \"datum['lower_box_pct_risk_inclined'] >= datum['upper_box_pct_risk_inclined']\"}, {\"value\": \"white\"}], \"width\": {\"value\": 1}, \"xc\": {\"field\": \"mid_box_pct_risk_inclined\", \"scale\": \"x\"}, \"yc\": {\"field\": \"adjust_payoff\", \"scale\": \"y\", \"band\": 0.5}, \"height\": {\"value\": 14}, \"tooltip\": {\"signal\": \"{\\\"Max of % Risk Inclined\\\": format(datum[\\\"upper_whisker_pct_risk_inclined\\\"], \\\"\\\"), \\\"Q3 of % Risk Inclined\\\": format(datum[\\\"upper_box_pct_risk_inclined\\\"], \\\"\\\"), \\\"Median of % Risk Inclined\\\": format(datum[\\\"mid_box_pct_risk_inclined\\\"], \\\"\\\"), \\\"Q1 of % Risk Inclined\\\": format(datum[\\\"lower_box_pct_risk_inclined\\\"], \\\"\\\"), \\\"Min of % Risk Inclined\\\": format(datum[\\\"lower_whisker_pct_risk_inclined\\\"], \\\"\\\"), \\\"Adjustment payoff\\\": isValid(datum[\\\"adjust_payoff\\\"]) ? datum[\\\"adjust_payoff\\\"] : \\\"\\\"+datum[\\\"adjust_payoff\\\"]}\"}}}, \"aria\": false, \"style\": [\"tick\", \"boxplot-median\"]}], \"scales\": [{\"name\": \"x\", \"type\": \"linear\", \"domain\": {\"fields\": [{\"data\": \"data_0\", \"field\": \"lower_whisker_pct_risk_inclined\"}, {\"data\": \"data_0\", \"field\": \"lower_box_pct_risk_inclined\"}, {\"data\": \"data_1\", \"field\": \"upper_box_pct_risk_inclined\"}, {\"data\": \"data_1\", \"field\": \"upper_whisker_pct_risk_inclined\"}, {\"data\": \"data_2\", \"field\": \"lower_box_pct_risk_inclined\"}, {\"data\": \"data_2\", \"field\": \"upper_box_pct_risk_inclined\"}, {\"data\": \"data_3\", \"field\": \"mid_box_pct_risk_inclined\"}]}, \"range\": [0, {\"signal\": \"width\"}], \"zero\": true, \"nice\": true}, {\"name\": \"y\", \"type\": \"band\", \"domain\": {\"fields\": [{\"data\": \"data_0_y_domain_adjust_payoff_0\", \"field\": \"adjust_payoff\"}, {\"data\": \"data_1_y_domain_adjust_payoff_1\", \"field\": \"adjust_payoff\"}, {\"data\": \"data_2_y_domain_adjust_payoff_2\", \"field\": \"adjust_payoff\"}, {\"data\": \"data_3_y_domain_adjust_payoff_3\", \"field\": \"adjust_payoff\"}], \"sort\": true}, \"range\": {\"step\": {\"signal\": \"y_step\"}}, \"paddingInner\": 0, \"paddingOuter\": 0}], \"axes\": [{\"scale\": \"x\", \"zindex\": 0, \"aria\": false, \"tickCount\": {\"signal\": \"ceil(width/40)\"}, \"orient\": \"bottom\", \"domain\": false, \"maxExtent\": 0, \"ticks\": false, \"labels\": false, \"gridScale\": \"y\", \"grid\": true, \"minExtent\": 0}, {\"scale\": \"x\", \"zindex\": 0, \"title\": \"% Risk Inclined\", \"orient\": \"bottom\", \"labelFlush\": true, \"labelOverlap\": true, \"tickCount\": {\"signal\": \"ceil(width/40)\"}, \"grid\": false}, {\"scale\": \"y\", \"grid\": false, \"title\": \"Adjustment payoff\", \"zindex\": 0, \"orient\": \"left\"}], \"background\": \"white\", \"padding\": 5, \"style\": \"cell\", \"width\": 300}, {\"mode\": \"vega\"});\n",
       "</script>"
      ],
      "text/plain": [
       "alt.Chart(...)"
      ]
     },
     "execution_count": 41,
     "metadata": {},
     "output_type": "execute_result"
    }
   ],
   "source": [
    "alt.Chart(df_payoff).mark_boxplot(extent=\"min-max\").encode(\n",
    "    x=alt.X(\"pct_risk_inclined\", title=\"% Risk Inclined\"),\n",
    "    y=alt.Y(\"adjust_payoff\", title=\"Adjustment payoff\")\n",
    ")"
   ]
  },
  {
   "cell_type": "code",
   "execution_count": 45,
   "id": "75f3ff4f-6d10-4cd1-8071-05df3f0df95d",
   "metadata": {},
   "outputs": [
    {
     "data": {
      "text/html": [
       "\n",
       "<style>\n",
       "  #altair-viz-3dbb34a02362404a9b91d0cf550542ac.vega-embed {\n",
       "    width: 100%;\n",
       "    display: flex;\n",
       "  }\n",
       "\n",
       "  #altair-viz-3dbb34a02362404a9b91d0cf550542ac.vega-embed details,\n",
       "  #altair-viz-3dbb34a02362404a9b91d0cf550542ac.vega-embed details summary {\n",
       "    position: relative;\n",
       "  }\n",
       "</style>\n",
       "<div id=\"altair-viz-3dbb34a02362404a9b91d0cf550542ac\"></div>\n",
       "<script type=\"text/javascript\">\n",
       "  var VEGA_DEBUG = (typeof VEGA_DEBUG == \"undefined\") ? {} : VEGA_DEBUG;\n",
       "  (function(spec, embedOpt){\n",
       "    let outputDiv = document.currentScript.previousElementSibling;\n",
       "    if (outputDiv.id !== \"altair-viz-3dbb34a02362404a9b91d0cf550542ac\") {\n",
       "      outputDiv = document.getElementById(\"altair-viz-3dbb34a02362404a9b91d0cf550542ac\");\n",
       "    }\n",
       "\n",
       "    const paths = {\n",
       "      \"vega\": \"https://cdn.jsdelivr.net/npm/vega@5?noext\",\n",
       "      \"vega-lib\": \"https://cdn.jsdelivr.net/npm/vega-lib?noext\",\n",
       "      \"vega-lite\": \"https://cdn.jsdelivr.net/npm/vega-lite@5.20.1?noext\",\n",
       "      \"vega-embed\": \"https://cdn.jsdelivr.net/npm/vega-embed@6?noext\",\n",
       "    };\n",
       "\n",
       "    function maybeLoadScript(lib, version) {\n",
       "      var key = `${lib.replace(\"-\", \"\")}_version`;\n",
       "      return (VEGA_DEBUG[key] == version) ?\n",
       "        Promise.resolve(paths[lib]) :\n",
       "        new Promise(function(resolve, reject) {\n",
       "          var s = document.createElement('script');\n",
       "          document.getElementsByTagName(\"head\")[0].appendChild(s);\n",
       "          s.async = true;\n",
       "          s.onload = () => {\n",
       "            VEGA_DEBUG[key] = version;\n",
       "            return resolve(paths[lib]);\n",
       "          };\n",
       "          s.onerror = () => reject(`Error loading script: ${paths[lib]}`);\n",
       "          s.src = paths[lib];\n",
       "        });\n",
       "    }\n",
       "\n",
       "    function showError(err) {\n",
       "      outputDiv.innerHTML = `<div class=\"error\" style=\"color:red;\">${err}</div>`;\n",
       "      throw err;\n",
       "    }\n",
       "\n",
       "    function displayChart(vegaEmbed) {\n",
       "      vegaEmbed(outputDiv, spec, embedOpt)\n",
       "        .catch(err => showError(`Javascript Error: ${err.message}<br>This usually means there's a typo in your chart specification. See the javascript console for the full traceback.`));\n",
       "    }\n",
       "\n",
       "    if(typeof define === \"function\" && define.amd) {\n",
       "      requirejs.config({paths});\n",
       "      let deps = [\"vega-embed\"];\n",
       "      require(deps, displayChart, err => showError(`Error loading script: ${err.message}`));\n",
       "    } else {\n",
       "      maybeLoadScript(\"vega\", \"5\")\n",
       "        .then(() => maybeLoadScript(\"vega-lite\", \"5.20.1\"))\n",
       "        .then(() => maybeLoadScript(\"vega-embed\", \"6\"))\n",
       "        .catch(showError)\n",
       "        .then(() => displayChart(vegaEmbed));\n",
       "    }\n",
       "  })({\"$schema\": \"https://vega.github.io/schema/vega/v5.json\", \"data\": [{\"name\": \"source_0\"}, {\"name\": \"data_0\", \"values\": [{\"adjust_payoff\": \"recent\", \"lower_box_pct_risk_moderate\": 0.3856, \"lower_whisker_pct_risk_moderate\": 0.3536, \"mid_box_pct_risk_moderate\": 0.4016, \"upper_box_pct_risk_moderate\": 0.4144, \"upper_whisker_pct_risk_moderate\": 0.4544}, {\"adjust_payoff\": \"total\", \"lower_box_pct_risk_moderate\": 0.3888, \"lower_whisker_pct_risk_moderate\": 0.3488, \"mid_box_pct_risk_moderate\": 0.4016, \"upper_box_pct_risk_moderate\": 0.4128, \"upper_whisker_pct_risk_moderate\": 0.4512}]}, {\"name\": \"data_1\", \"values\": [{\"adjust_payoff\": \"recent\", \"lower_box_pct_risk_moderate\": 0.3856, \"lower_whisker_pct_risk_moderate\": 0.3536, \"mid_box_pct_risk_moderate\": 0.4016, \"upper_box_pct_risk_moderate\": 0.4144, \"upper_whisker_pct_risk_moderate\": 0.4544}, {\"adjust_payoff\": \"total\", \"lower_box_pct_risk_moderate\": 0.3888, \"lower_whisker_pct_risk_moderate\": 0.3488, \"mid_box_pct_risk_moderate\": 0.4016, \"upper_box_pct_risk_moderate\": 0.4128, \"upper_whisker_pct_risk_moderate\": 0.4512}]}, {\"name\": \"data_2\", \"values\": [{\"adjust_payoff\": \"recent\", \"lower_box_pct_risk_moderate\": 0.3856, \"lower_whisker_pct_risk_moderate\": 0.3536, \"mid_box_pct_risk_moderate\": 0.4016, \"upper_box_pct_risk_moderate\": 0.4144, \"upper_whisker_pct_risk_moderate\": 0.4544}, {\"adjust_payoff\": \"total\", \"lower_box_pct_risk_moderate\": 0.3888, \"lower_whisker_pct_risk_moderate\": 0.3488, \"mid_box_pct_risk_moderate\": 0.4016, \"upper_box_pct_risk_moderate\": 0.4128, \"upper_whisker_pct_risk_moderate\": 0.4512}]}, {\"name\": \"data_3\", \"values\": [{\"adjust_payoff\": \"recent\", \"lower_box_pct_risk_moderate\": 0.3856, \"lower_whisker_pct_risk_moderate\": 0.3536, \"mid_box_pct_risk_moderate\": 0.4016, \"upper_box_pct_risk_moderate\": 0.4144, \"upper_whisker_pct_risk_moderate\": 0.4544}, {\"adjust_payoff\": \"total\", \"lower_box_pct_risk_moderate\": 0.3888, \"lower_whisker_pct_risk_moderate\": 0.3488, \"mid_box_pct_risk_moderate\": 0.4016, \"upper_box_pct_risk_moderate\": 0.4128, \"upper_whisker_pct_risk_moderate\": 0.4512}]}, {\"name\": \"data_0_y_domain_adjust_payoff_0\", \"values\": [{\"adjust_payoff\": \"recent\"}, {\"adjust_payoff\": \"total\"}]}, {\"name\": \"data_1_y_domain_adjust_payoff_1\", \"values\": [{\"adjust_payoff\": \"recent\"}, {\"adjust_payoff\": \"total\"}]}, {\"name\": \"data_2_y_domain_adjust_payoff_2\", \"values\": [{\"adjust_payoff\": \"recent\"}, {\"adjust_payoff\": \"total\"}]}, {\"name\": \"data_3_y_domain_adjust_payoff_3\", \"values\": [{\"adjust_payoff\": \"recent\"}, {\"adjust_payoff\": \"total\"}]}], \"signals\": [{\"name\": \"y_step\", \"value\": 20}, {\"name\": \"height\", \"update\": \"bandspace(domain('y').length, 0, 0) * y_step\"}], \"marks\": [{\"type\": \"rule\", \"name\": \"layer_0_marks\", \"from\": {\"data\": \"data_0\"}, \"encode\": {\"update\": {\"x2\": {\"field\": \"lower_box_pct_risk_moderate\", \"scale\": \"x\"}, \"y\": {\"field\": \"adjust_payoff\", \"scale\": \"y\", \"band\": 0.5}, \"stroke\": {\"value\": \"black\"}, \"x\": {\"field\": \"lower_whisker_pct_risk_moderate\", \"scale\": \"x\"}, \"tooltip\": {\"signal\": \"{\\\"Max of % Risk Moderate\\\": format(datum[\\\"upper_whisker_pct_risk_moderate\\\"], \\\"\\\"), \\\"Q3 of % Risk Moderate\\\": format(datum[\\\"upper_box_pct_risk_moderate\\\"], \\\"\\\"), \\\"Median of % Risk Moderate\\\": format(datum[\\\"mid_box_pct_risk_moderate\\\"], \\\"\\\"), \\\"Q1 of % Risk Moderate\\\": format(datum[\\\"lower_box_pct_risk_moderate\\\"], \\\"\\\"), \\\"Min of % Risk Moderate\\\": format(datum[\\\"lower_whisker_pct_risk_moderate\\\"], \\\"\\\"), \\\"Adjustment payoff\\\": isValid(datum[\\\"adjust_payoff\\\"]) ? datum[\\\"adjust_payoff\\\"] : \\\"\\\"+datum[\\\"adjust_payoff\\\"]}\"}}}, \"aria\": false, \"style\": [\"rule\", \"boxplot-rule\"]}, {\"type\": \"rule\", \"name\": \"layer_1_marks\", \"from\": {\"data\": \"data_1\"}, \"encode\": {\"update\": {\"tooltip\": {\"signal\": \"{\\\"Max of % Risk Moderate\\\": format(datum[\\\"upper_whisker_pct_risk_moderate\\\"], \\\"\\\"), \\\"Q3 of % Risk Moderate\\\": format(datum[\\\"upper_box_pct_risk_moderate\\\"], \\\"\\\"), \\\"Median of % Risk Moderate\\\": format(datum[\\\"mid_box_pct_risk_moderate\\\"], \\\"\\\"), \\\"Q1 of % Risk Moderate\\\": format(datum[\\\"lower_box_pct_risk_moderate\\\"], \\\"\\\"), \\\"Min of % Risk Moderate\\\": format(datum[\\\"lower_whisker_pct_risk_moderate\\\"], \\\"\\\"), \\\"Adjustment payoff\\\": isValid(datum[\\\"adjust_payoff\\\"]) ? datum[\\\"adjust_payoff\\\"] : \\\"\\\"+datum[\\\"adjust_payoff\\\"]}\"}, \"x\": {\"field\": \"upper_box_pct_risk_moderate\", \"scale\": \"x\"}, \"stroke\": {\"value\": \"black\"}, \"y\": {\"field\": \"adjust_payoff\", \"scale\": \"y\", \"band\": 0.5}, \"x2\": {\"field\": \"upper_whisker_pct_risk_moderate\", \"scale\": \"x\"}}}, \"aria\": false, \"style\": [\"rule\", \"boxplot-rule\"]}, {\"type\": \"rect\", \"name\": \"layer_2_marks\", \"from\": {\"data\": \"data_2\"}, \"encode\": {\"update\": {\"yc\": {\"field\": \"adjust_payoff\", \"scale\": \"y\", \"band\": 0.5}, \"tooltip\": {\"signal\": \"{\\\"Max of % Risk Moderate\\\": format(datum[\\\"upper_whisker_pct_risk_moderate\\\"], \\\"\\\"), \\\"Q3 of % Risk Moderate\\\": format(datum[\\\"upper_box_pct_risk_moderate\\\"], \\\"\\\"), \\\"Median of % Risk Moderate\\\": format(datum[\\\"mid_box_pct_risk_moderate\\\"], \\\"\\\"), \\\"Q1 of % Risk Moderate\\\": format(datum[\\\"lower_box_pct_risk_moderate\\\"], \\\"\\\"), \\\"Min of % Risk Moderate\\\": format(datum[\\\"lower_whisker_pct_risk_moderate\\\"], \\\"\\\"), \\\"Adjustment payoff\\\": isValid(datum[\\\"adjust_payoff\\\"]) ? datum[\\\"adjust_payoff\\\"] : \\\"\\\"+datum[\\\"adjust_payoff\\\"]}\"}, \"x\": {\"field\": \"lower_box_pct_risk_moderate\", \"scale\": \"x\"}, \"height\": {\"value\": 14}, \"fill\": {\"value\": \"#4c78a8\"}, \"x2\": {\"field\": \"upper_box_pct_risk_moderate\", \"scale\": \"x\"}}}, \"style\": [\"bar\", \"boxplot-box\"]}, {\"type\": \"rect\", \"name\": \"layer_3_marks\", \"from\": {\"data\": \"data_3\"}, \"encode\": {\"update\": {\"xc\": {\"field\": \"mid_box_pct_risk_moderate\", \"scale\": \"x\"}, \"tooltip\": {\"signal\": \"{\\\"Max of % Risk Moderate\\\": format(datum[\\\"upper_whisker_pct_risk_moderate\\\"], \\\"\\\"), \\\"Q3 of % Risk Moderate\\\": format(datum[\\\"upper_box_pct_risk_moderate\\\"], \\\"\\\"), \\\"Median of % Risk Moderate\\\": format(datum[\\\"mid_box_pct_risk_moderate\\\"], \\\"\\\"), \\\"Q1 of % Risk Moderate\\\": format(datum[\\\"lower_box_pct_risk_moderate\\\"], \\\"\\\"), \\\"Min of % Risk Moderate\\\": format(datum[\\\"lower_whisker_pct_risk_moderate\\\"], \\\"\\\"), \\\"Adjustment payoff\\\": isValid(datum[\\\"adjust_payoff\\\"]) ? datum[\\\"adjust_payoff\\\"] : \\\"\\\"+datum[\\\"adjust_payoff\\\"]}\"}, \"fill\": [{\"value\": \"#4c78a8\", \"test\": \"datum['lower_box_pct_risk_moderate'] >= datum['upper_box_pct_risk_moderate']\"}, {\"value\": \"white\"}], \"opacity\": {\"value\": 0.7}, \"height\": {\"value\": 14}, \"yc\": {\"field\": \"adjust_payoff\", \"scale\": \"y\", \"band\": 0.5}, \"width\": {\"value\": 1}}}, \"style\": [\"tick\", \"boxplot-median\"], \"aria\": false}], \"scales\": [{\"name\": \"x\", \"type\": \"linear\", \"domain\": {\"fields\": [{\"data\": \"data_0\", \"field\": \"lower_whisker_pct_risk_moderate\"}, {\"data\": \"data_0\", \"field\": \"lower_box_pct_risk_moderate\"}, {\"data\": \"data_1\", \"field\": \"upper_box_pct_risk_moderate\"}, {\"data\": \"data_1\", \"field\": \"upper_whisker_pct_risk_moderate\"}, {\"data\": \"data_2\", \"field\": \"lower_box_pct_risk_moderate\"}, {\"data\": \"data_2\", \"field\": \"upper_box_pct_risk_moderate\"}, {\"data\": \"data_3\", \"field\": \"mid_box_pct_risk_moderate\"}]}, \"range\": [0, {\"signal\": \"width\"}], \"nice\": true, \"zero\": true}, {\"name\": \"y\", \"type\": \"band\", \"domain\": {\"fields\": [{\"data\": \"data_0_y_domain_adjust_payoff_0\", \"field\": \"adjust_payoff\"}, {\"data\": \"data_1_y_domain_adjust_payoff_1\", \"field\": \"adjust_payoff\"}, {\"data\": \"data_2_y_domain_adjust_payoff_2\", \"field\": \"adjust_payoff\"}, {\"data\": \"data_3_y_domain_adjust_payoff_3\", \"field\": \"adjust_payoff\"}], \"sort\": true}, \"range\": {\"step\": {\"signal\": \"y_step\"}}, \"paddingInner\": 0, \"paddingOuter\": 0}], \"axes\": [{\"scale\": \"x\", \"aria\": false, \"labels\": false, \"orient\": \"bottom\", \"ticks\": false, \"zindex\": 0, \"gridScale\": \"y\", \"maxExtent\": 0, \"minExtent\": 0, \"tickCount\": {\"signal\": \"ceil(width/40)\"}, \"domain\": false, \"grid\": true}, {\"scale\": \"x\", \"title\": \"% Risk Moderate\", \"zindex\": 0, \"labelFlush\": true, \"orient\": \"bottom\", \"labelOverlap\": true, \"grid\": false, \"tickCount\": {\"signal\": \"ceil(width/40)\"}}, {\"scale\": \"y\", \"grid\": false, \"orient\": \"left\", \"title\": \"Adjustment payoff\", \"zindex\": 0}], \"style\": \"cell\", \"background\": \"white\", \"padding\": 5, \"width\": 300}, {\"mode\": \"vega\"});\n",
       "</script>"
      ],
      "text/plain": [
       "alt.Chart(...)"
      ]
     },
     "execution_count": 45,
     "metadata": {},
     "output_type": "execute_result"
    }
   ],
   "source": [
    "alt.Chart(df_payoff).mark_boxplot(extent=\"min-max\").encode(\n",
    "    x=alt.X(\"pct_risk_moderate\", title=\"% Risk Moderate\"),\n",
    "    y=alt.Y(\"adjust_payoff\", title=\"Adjustment payoff\")\n",
    ")"
   ]
  },
  {
   "cell_type": "code",
   "execution_count": 46,
   "id": "042ba01e-8db1-4dc2-a47b-1b5263e3336b",
   "metadata": {},
   "outputs": [
    {
     "data": {
      "text/html": [
       "\n",
       "<style>\n",
       "  #altair-viz-5f3d150f0120461b8e1de03032891c0d.vega-embed {\n",
       "    width: 100%;\n",
       "    display: flex;\n",
       "  }\n",
       "\n",
       "  #altair-viz-5f3d150f0120461b8e1de03032891c0d.vega-embed details,\n",
       "  #altair-viz-5f3d150f0120461b8e1de03032891c0d.vega-embed details summary {\n",
       "    position: relative;\n",
       "  }\n",
       "</style>\n",
       "<div id=\"altair-viz-5f3d150f0120461b8e1de03032891c0d\"></div>\n",
       "<script type=\"text/javascript\">\n",
       "  var VEGA_DEBUG = (typeof VEGA_DEBUG == \"undefined\") ? {} : VEGA_DEBUG;\n",
       "  (function(spec, embedOpt){\n",
       "    let outputDiv = document.currentScript.previousElementSibling;\n",
       "    if (outputDiv.id !== \"altair-viz-5f3d150f0120461b8e1de03032891c0d\") {\n",
       "      outputDiv = document.getElementById(\"altair-viz-5f3d150f0120461b8e1de03032891c0d\");\n",
       "    }\n",
       "\n",
       "    const paths = {\n",
       "      \"vega\": \"https://cdn.jsdelivr.net/npm/vega@5?noext\",\n",
       "      \"vega-lib\": \"https://cdn.jsdelivr.net/npm/vega-lib?noext\",\n",
       "      \"vega-lite\": \"https://cdn.jsdelivr.net/npm/vega-lite@5.20.1?noext\",\n",
       "      \"vega-embed\": \"https://cdn.jsdelivr.net/npm/vega-embed@6?noext\",\n",
       "    };\n",
       "\n",
       "    function maybeLoadScript(lib, version) {\n",
       "      var key = `${lib.replace(\"-\", \"\")}_version`;\n",
       "      return (VEGA_DEBUG[key] == version) ?\n",
       "        Promise.resolve(paths[lib]) :\n",
       "        new Promise(function(resolve, reject) {\n",
       "          var s = document.createElement('script');\n",
       "          document.getElementsByTagName(\"head\")[0].appendChild(s);\n",
       "          s.async = true;\n",
       "          s.onload = () => {\n",
       "            VEGA_DEBUG[key] = version;\n",
       "            return resolve(paths[lib]);\n",
       "          };\n",
       "          s.onerror = () => reject(`Error loading script: ${paths[lib]}`);\n",
       "          s.src = paths[lib];\n",
       "        });\n",
       "    }\n",
       "\n",
       "    function showError(err) {\n",
       "      outputDiv.innerHTML = `<div class=\"error\" style=\"color:red;\">${err}</div>`;\n",
       "      throw err;\n",
       "    }\n",
       "\n",
       "    function displayChart(vegaEmbed) {\n",
       "      vegaEmbed(outputDiv, spec, embedOpt)\n",
       "        .catch(err => showError(`Javascript Error: ${err.message}<br>This usually means there's a typo in your chart specification. See the javascript console for the full traceback.`));\n",
       "    }\n",
       "\n",
       "    if(typeof define === \"function\" && define.amd) {\n",
       "      requirejs.config({paths});\n",
       "      let deps = [\"vega-embed\"];\n",
       "      require(deps, displayChart, err => showError(`Error loading script: ${err.message}`));\n",
       "    } else {\n",
       "      maybeLoadScript(\"vega\", \"5\")\n",
       "        .then(() => maybeLoadScript(\"vega-lite\", \"5.20.1\"))\n",
       "        .then(() => maybeLoadScript(\"vega-embed\", \"6\"))\n",
       "        .catch(showError)\n",
       "        .then(() => displayChart(vegaEmbed));\n",
       "    }\n",
       "  })({\"$schema\": \"https://vega.github.io/schema/vega/v5.json\", \"data\": [{\"name\": \"source_0\"}, {\"name\": \"data_0\", \"values\": [{\"adjust_payoff\": \"recent\", \"lower_box_pct_risk_avoidant\": 0.2864, \"lower_whisker_pct_risk_avoidant\": 0.2448, \"mid_box_pct_risk_avoidant\": 0.2992, \"upper_box_pct_risk_avoidant\": 0.3136, \"upper_whisker_pct_risk_avoidant\": 0.352}, {\"adjust_payoff\": \"total\", \"lower_box_pct_risk_avoidant\": 0.288, \"lower_whisker_pct_risk_avoidant\": 0.2608, \"mid_box_pct_risk_avoidant\": 0.2992, \"upper_box_pct_risk_avoidant\": 0.3136, \"upper_whisker_pct_risk_avoidant\": 0.3568}]}, {\"name\": \"data_1\", \"values\": [{\"adjust_payoff\": \"recent\", \"lower_box_pct_risk_avoidant\": 0.2864, \"lower_whisker_pct_risk_avoidant\": 0.2448, \"mid_box_pct_risk_avoidant\": 0.2992, \"upper_box_pct_risk_avoidant\": 0.3136, \"upper_whisker_pct_risk_avoidant\": 0.352}, {\"adjust_payoff\": \"total\", \"lower_box_pct_risk_avoidant\": 0.288, \"lower_whisker_pct_risk_avoidant\": 0.2608, \"mid_box_pct_risk_avoidant\": 0.2992, \"upper_box_pct_risk_avoidant\": 0.3136, \"upper_whisker_pct_risk_avoidant\": 0.3568}]}, {\"name\": \"data_2\", \"values\": [{\"adjust_payoff\": \"recent\", \"lower_box_pct_risk_avoidant\": 0.2864, \"lower_whisker_pct_risk_avoidant\": 0.2448, \"mid_box_pct_risk_avoidant\": 0.2992, \"upper_box_pct_risk_avoidant\": 0.3136, \"upper_whisker_pct_risk_avoidant\": 0.352}, {\"adjust_payoff\": \"total\", \"lower_box_pct_risk_avoidant\": 0.288, \"lower_whisker_pct_risk_avoidant\": 0.2608, \"mid_box_pct_risk_avoidant\": 0.2992, \"upper_box_pct_risk_avoidant\": 0.3136, \"upper_whisker_pct_risk_avoidant\": 0.3568}]}, {\"name\": \"data_3\", \"values\": [{\"adjust_payoff\": \"recent\", \"lower_box_pct_risk_avoidant\": 0.2864, \"lower_whisker_pct_risk_avoidant\": 0.2448, \"mid_box_pct_risk_avoidant\": 0.2992, \"upper_box_pct_risk_avoidant\": 0.3136, \"upper_whisker_pct_risk_avoidant\": 0.352}, {\"adjust_payoff\": \"total\", \"lower_box_pct_risk_avoidant\": 0.288, \"lower_whisker_pct_risk_avoidant\": 0.2608, \"mid_box_pct_risk_avoidant\": 0.2992, \"upper_box_pct_risk_avoidant\": 0.3136, \"upper_whisker_pct_risk_avoidant\": 0.3568}]}, {\"name\": \"data_0_y_domain_adjust_payoff_0\", \"values\": [{\"adjust_payoff\": \"recent\"}, {\"adjust_payoff\": \"total\"}]}, {\"name\": \"data_1_y_domain_adjust_payoff_1\", \"values\": [{\"adjust_payoff\": \"recent\"}, {\"adjust_payoff\": \"total\"}]}, {\"name\": \"data_2_y_domain_adjust_payoff_2\", \"values\": [{\"adjust_payoff\": \"recent\"}, {\"adjust_payoff\": \"total\"}]}, {\"name\": \"data_3_y_domain_adjust_payoff_3\", \"values\": [{\"adjust_payoff\": \"recent\"}, {\"adjust_payoff\": \"total\"}]}], \"signals\": [{\"name\": \"y_step\", \"value\": 20}, {\"name\": \"height\", \"update\": \"bandspace(domain('y').length, 0, 0) * y_step\"}], \"marks\": [{\"type\": \"rule\", \"name\": \"layer_0_marks\", \"from\": {\"data\": \"data_0\"}, \"encode\": {\"update\": {\"x\": {\"field\": \"lower_whisker_pct_risk_avoidant\", \"scale\": \"x\"}, \"y\": {\"field\": \"adjust_payoff\", \"scale\": \"y\", \"band\": 0.5}, \"tooltip\": {\"signal\": \"{\\\"Max of % Risk avoidant\\\": format(datum[\\\"upper_whisker_pct_risk_avoidant\\\"], \\\"\\\"), \\\"Q3 of % Risk avoidant\\\": format(datum[\\\"upper_box_pct_risk_avoidant\\\"], \\\"\\\"), \\\"Median of % Risk avoidant\\\": format(datum[\\\"mid_box_pct_risk_avoidant\\\"], \\\"\\\"), \\\"Q1 of % Risk avoidant\\\": format(datum[\\\"lower_box_pct_risk_avoidant\\\"], \\\"\\\"), \\\"Min of % Risk avoidant\\\": format(datum[\\\"lower_whisker_pct_risk_avoidant\\\"], \\\"\\\"), \\\"Adjustment payoff\\\": isValid(datum[\\\"adjust_payoff\\\"]) ? datum[\\\"adjust_payoff\\\"] : \\\"\\\"+datum[\\\"adjust_payoff\\\"]}\"}, \"stroke\": {\"value\": \"black\"}, \"x2\": {\"field\": \"lower_box_pct_risk_avoidant\", \"scale\": \"x\"}}}, \"style\": [\"rule\", \"boxplot-rule\"], \"aria\": false}, {\"type\": \"rule\", \"name\": \"layer_1_marks\", \"from\": {\"data\": \"data_1\"}, \"encode\": {\"update\": {\"tooltip\": {\"signal\": \"{\\\"Max of % Risk avoidant\\\": format(datum[\\\"upper_whisker_pct_risk_avoidant\\\"], \\\"\\\"), \\\"Q3 of % Risk avoidant\\\": format(datum[\\\"upper_box_pct_risk_avoidant\\\"], \\\"\\\"), \\\"Median of % Risk avoidant\\\": format(datum[\\\"mid_box_pct_risk_avoidant\\\"], \\\"\\\"), \\\"Q1 of % Risk avoidant\\\": format(datum[\\\"lower_box_pct_risk_avoidant\\\"], \\\"\\\"), \\\"Min of % Risk avoidant\\\": format(datum[\\\"lower_whisker_pct_risk_avoidant\\\"], \\\"\\\"), \\\"Adjustment payoff\\\": isValid(datum[\\\"adjust_payoff\\\"]) ? datum[\\\"adjust_payoff\\\"] : \\\"\\\"+datum[\\\"adjust_payoff\\\"]}\"}, \"y\": {\"field\": \"adjust_payoff\", \"scale\": \"y\", \"band\": 0.5}, \"stroke\": {\"value\": \"black\"}, \"x2\": {\"field\": \"upper_whisker_pct_risk_avoidant\", \"scale\": \"x\"}, \"x\": {\"field\": \"upper_box_pct_risk_avoidant\", \"scale\": \"x\"}}}, \"style\": [\"rule\", \"boxplot-rule\"], \"aria\": false}, {\"type\": \"rect\", \"name\": \"layer_2_marks\", \"from\": {\"data\": \"data_2\"}, \"encode\": {\"update\": {\"fill\": {\"value\": \"#4c78a8\"}, \"tooltip\": {\"signal\": \"{\\\"Max of % Risk avoidant\\\": format(datum[\\\"upper_whisker_pct_risk_avoidant\\\"], \\\"\\\"), \\\"Q3 of % Risk avoidant\\\": format(datum[\\\"upper_box_pct_risk_avoidant\\\"], \\\"\\\"), \\\"Median of % Risk avoidant\\\": format(datum[\\\"mid_box_pct_risk_avoidant\\\"], \\\"\\\"), \\\"Q1 of % Risk avoidant\\\": format(datum[\\\"lower_box_pct_risk_avoidant\\\"], \\\"\\\"), \\\"Min of % Risk avoidant\\\": format(datum[\\\"lower_whisker_pct_risk_avoidant\\\"], \\\"\\\"), \\\"Adjustment payoff\\\": isValid(datum[\\\"adjust_payoff\\\"]) ? datum[\\\"adjust_payoff\\\"] : \\\"\\\"+datum[\\\"adjust_payoff\\\"]}\"}, \"x\": {\"field\": \"lower_box_pct_risk_avoidant\", \"scale\": \"x\"}, \"x2\": {\"field\": \"upper_box_pct_risk_avoidant\", \"scale\": \"x\"}, \"height\": {\"value\": 14}, \"yc\": {\"field\": \"adjust_payoff\", \"scale\": \"y\", \"band\": 0.5}}}, \"style\": [\"bar\", \"boxplot-box\"]}, {\"type\": \"rect\", \"name\": \"layer_3_marks\", \"from\": {\"data\": \"data_3\"}, \"encode\": {\"update\": {\"opacity\": {\"value\": 0.7}, \"fill\": [{\"value\": \"#4c78a8\", \"test\": \"datum['lower_box_pct_risk_avoidant'] >= datum['upper_box_pct_risk_avoidant']\"}, {\"value\": \"white\"}], \"xc\": {\"field\": \"mid_box_pct_risk_avoidant\", \"scale\": \"x\"}, \"tooltip\": {\"signal\": \"{\\\"Max of % Risk avoidant\\\": format(datum[\\\"upper_whisker_pct_risk_avoidant\\\"], \\\"\\\"), \\\"Q3 of % Risk avoidant\\\": format(datum[\\\"upper_box_pct_risk_avoidant\\\"], \\\"\\\"), \\\"Median of % Risk avoidant\\\": format(datum[\\\"mid_box_pct_risk_avoidant\\\"], \\\"\\\"), \\\"Q1 of % Risk avoidant\\\": format(datum[\\\"lower_box_pct_risk_avoidant\\\"], \\\"\\\"), \\\"Min of % Risk avoidant\\\": format(datum[\\\"lower_whisker_pct_risk_avoidant\\\"], \\\"\\\"), \\\"Adjustment payoff\\\": isValid(datum[\\\"adjust_payoff\\\"]) ? datum[\\\"adjust_payoff\\\"] : \\\"\\\"+datum[\\\"adjust_payoff\\\"]}\"}, \"yc\": {\"field\": \"adjust_payoff\", \"scale\": \"y\", \"band\": 0.5}, \"height\": {\"value\": 14}, \"width\": {\"value\": 1}}}, \"style\": [\"tick\", \"boxplot-median\"], \"aria\": false}], \"scales\": [{\"name\": \"x\", \"type\": \"linear\", \"domain\": {\"fields\": [{\"data\": \"data_0\", \"field\": \"lower_whisker_pct_risk_avoidant\"}, {\"data\": \"data_0\", \"field\": \"lower_box_pct_risk_avoidant\"}, {\"data\": \"data_1\", \"field\": \"upper_box_pct_risk_avoidant\"}, {\"data\": \"data_1\", \"field\": \"upper_whisker_pct_risk_avoidant\"}, {\"data\": \"data_2\", \"field\": \"lower_box_pct_risk_avoidant\"}, {\"data\": \"data_2\", \"field\": \"upper_box_pct_risk_avoidant\"}, {\"data\": \"data_3\", \"field\": \"mid_box_pct_risk_avoidant\"}]}, \"range\": [0, {\"signal\": \"width\"}], \"zero\": true, \"nice\": true}, {\"name\": \"y\", \"type\": \"band\", \"domain\": {\"fields\": [{\"data\": \"data_0_y_domain_adjust_payoff_0\", \"field\": \"adjust_payoff\"}, {\"data\": \"data_1_y_domain_adjust_payoff_1\", \"field\": \"adjust_payoff\"}, {\"data\": \"data_2_y_domain_adjust_payoff_2\", \"field\": \"adjust_payoff\"}, {\"data\": \"data_3_y_domain_adjust_payoff_3\", \"field\": \"adjust_payoff\"}], \"sort\": true}, \"range\": {\"step\": {\"signal\": \"y_step\"}}, \"paddingOuter\": 0, \"paddingInner\": 0}], \"axes\": [{\"scale\": \"x\", \"grid\": true, \"labels\": false, \"ticks\": false, \"maxExtent\": 0, \"minExtent\": 0, \"domain\": false, \"gridScale\": \"y\", \"orient\": \"bottom\", \"zindex\": 0, \"aria\": false, \"tickCount\": {\"signal\": \"ceil(width/40)\"}}, {\"scale\": \"x\", \"zindex\": 0, \"orient\": \"bottom\", \"grid\": false, \"labelOverlap\": true, \"title\": \"% Risk avoidant\", \"tickCount\": {\"signal\": \"ceil(width/40)\"}, \"labelFlush\": true}, {\"scale\": \"y\", \"orient\": \"left\", \"zindex\": 0, \"title\": \"Adjustment payoff\", \"grid\": false}], \"width\": 300, \"background\": \"white\", \"style\": \"cell\", \"padding\": 5}, {\"mode\": \"vega\"});\n",
       "</script>"
      ],
      "text/plain": [
       "alt.Chart(...)"
      ]
     },
     "execution_count": 46,
     "metadata": {},
     "output_type": "execute_result"
    }
   ],
   "source": [
    "alt.Chart(df_payoff).mark_boxplot(extent=\"min-max\").encode(\n",
    "    x=alt.X(\"pct_risk_avoidant\", title=\"% Risk avoidant\"),\n",
    "    y=alt.Y(\"adjust_payoff\", title=\"Adjustment payoff\")\n",
    ")"
   ]
  }
 ],
 "metadata": {
  "kernelspec": {
   "display_name": "Python 3 (ipykernel)",
   "language": "python",
   "name": "python3"
  },
  "language_info": {
   "codemirror_mode": {
    "name": "ipython",
    "version": 3
   },
   "file_extension": ".py",
   "mimetype": "text/x-python",
   "name": "python",
   "nbconvert_exporter": "python",
   "pygments_lexer": "ipython3",
   "version": "3.12.7"
  }
 },
 "nbformat": 4,
 "nbformat_minor": 5
}
