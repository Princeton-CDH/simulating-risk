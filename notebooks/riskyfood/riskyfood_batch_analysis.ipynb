{
 "cells": [
  {
   "cell_type": "code",
   "execution_count": 1,
   "id": "e7850a1d-09ba-42d9-a59d-7b93533b1274",
   "metadata": {},
   "outputs": [
    {
     "name": "stderr",
     "output_type": "stream",
     "text": [
      "/var/folders/tn/1_gbhpks7hqbkbln2gjhcdvm0000gp/T/ipykernel_19041/3038069395.py:4: DtypeWarning: Columns (11) have mixed types. Specify dtype option on import or set low_memory=False.\n",
      "  df = pd.read_csv(\"../riskyfood_2023-07-25T150110_995385.csv\")\n"
     ]
    }
   ],
   "source": [
    "import pandas as pd\n",
    "\n",
    "#df = pd.read_csv(\"../riskyfood_2023-07-19T113234_405932.csv\")\n",
    "df = pd.read_csv(\"../riskyfood_2023-07-25T150110_995385.csv\")"
   ]
  },
  {
   "cell_type": "code",
   "execution_count": 2,
   "id": "73a2dc14-aadc-4bde-afee-47db039f2f65",
   "metadata": {},
   "outputs": [
    {
     "data": {
      "text/html": [
       "<div>\n",
       "<style scoped>\n",
       "    .dataframe tbody tr th:only-of-type {\n",
       "        vertical-align: middle;\n",
       "    }\n",
       "\n",
       "    .dataframe tbody tr th {\n",
       "        vertical-align: top;\n",
       "    }\n",
       "\n",
       "    .dataframe thead th {\n",
       "        text-align: right;\n",
       "    }\n",
       "</style>\n",
       "<table border=\"1\" class=\"dataframe\">\n",
       "  <thead>\n",
       "    <tr style=\"text-align: right;\">\n",
       "      <th></th>\n",
       "      <th>RunId</th>\n",
       "      <th>iteration</th>\n",
       "      <th>Step</th>\n",
       "      <th>n</th>\n",
       "      <th>mode</th>\n",
       "      <th>prob_notcontaminated</th>\n",
       "      <th>contaminated</th>\n",
       "      <th>average_risk_level</th>\n",
       "      <th>min_risk_level</th>\n",
       "      <th>max_risk_level</th>\n",
       "      <th>num_agents</th>\n",
       "      <th>AgentID</th>\n",
       "      <th>risk_level</th>\n",
       "      <th>payoff</th>\n",
       "    </tr>\n",
       "  </thead>\n",
       "  <tbody>\n",
       "    <tr>\n",
       "      <th>0</th>\n",
       "      <td>0</td>\n",
       "      <td>0</td>\n",
       "      <td>0</td>\n",
       "      <td>110</td>\n",
       "      <td>types</td>\n",
       "      <td>0.765003</td>\n",
       "      <td>0</td>\n",
       "      <td>0.500000</td>\n",
       "      <td>0.0</td>\n",
       "      <td>1.0</td>\n",
       "      <td>110</td>\n",
       "      <td>NaN</td>\n",
       "      <td>NaN</td>\n",
       "      <td>NaN</td>\n",
       "    </tr>\n",
       "    <tr>\n",
       "      <th>1</th>\n",
       "      <td>0</td>\n",
       "      <td>0</td>\n",
       "      <td>1</td>\n",
       "      <td>110</td>\n",
       "      <td>types</td>\n",
       "      <td>0.284317</td>\n",
       "      <td>1</td>\n",
       "      <td>0.585714</td>\n",
       "      <td>0.0</td>\n",
       "      <td>1.0</td>\n",
       "      <td>140</td>\n",
       "      <td>0-0</td>\n",
       "      <td>0.0</td>\n",
       "      <td>2.0</td>\n",
       "    </tr>\n",
       "    <tr>\n",
       "      <th>2</th>\n",
       "      <td>0</td>\n",
       "      <td>0</td>\n",
       "      <td>1</td>\n",
       "      <td>110</td>\n",
       "      <td>types</td>\n",
       "      <td>0.284317</td>\n",
       "      <td>1</td>\n",
       "      <td>0.585714</td>\n",
       "      <td>0.0</td>\n",
       "      <td>1.0</td>\n",
       "      <td>140</td>\n",
       "      <td>0-1</td>\n",
       "      <td>0.0</td>\n",
       "      <td>2.0</td>\n",
       "    </tr>\n",
       "    <tr>\n",
       "      <th>3</th>\n",
       "      <td>0</td>\n",
       "      <td>0</td>\n",
       "      <td>1</td>\n",
       "      <td>110</td>\n",
       "      <td>types</td>\n",
       "      <td>0.284317</td>\n",
       "      <td>1</td>\n",
       "      <td>0.585714</td>\n",
       "      <td>0.0</td>\n",
       "      <td>1.0</td>\n",
       "      <td>140</td>\n",
       "      <td>0-2</td>\n",
       "      <td>0.0</td>\n",
       "      <td>2.0</td>\n",
       "    </tr>\n",
       "    <tr>\n",
       "      <th>4</th>\n",
       "      <td>0</td>\n",
       "      <td>0</td>\n",
       "      <td>1</td>\n",
       "      <td>110</td>\n",
       "      <td>types</td>\n",
       "      <td>0.284317</td>\n",
       "      <td>1</td>\n",
       "      <td>0.585714</td>\n",
       "      <td>0.0</td>\n",
       "      <td>1.0</td>\n",
       "      <td>140</td>\n",
       "      <td>0-3</td>\n",
       "      <td>0.0</td>\n",
       "      <td>2.0</td>\n",
       "    </tr>\n",
       "  </tbody>\n",
       "</table>\n",
       "</div>"
      ],
      "text/plain": [
       "   RunId  iteration  Step    n   mode  prob_notcontaminated  contaminated   \n",
       "0      0          0     0  110  types              0.765003             0  \\\n",
       "1      0          0     1  110  types              0.284317             1   \n",
       "2      0          0     1  110  types              0.284317             1   \n",
       "3      0          0     1  110  types              0.284317             1   \n",
       "4      0          0     1  110  types              0.284317             1   \n",
       "\n",
       "   average_risk_level  min_risk_level  max_risk_level  num_agents AgentID   \n",
       "0            0.500000             0.0             1.0         110     NaN  \\\n",
       "1            0.585714             0.0             1.0         140     0-0   \n",
       "2            0.585714             0.0             1.0         140     0-1   \n",
       "3            0.585714             0.0             1.0         140     0-2   \n",
       "4            0.585714             0.0             1.0         140     0-3   \n",
       "\n",
       "   risk_level  payoff  \n",
       "0         NaN     NaN  \n",
       "1         0.0     2.0  \n",
       "2         0.0     2.0  \n",
       "3         0.0     2.0  \n",
       "4         0.0     2.0  "
      ]
     },
     "execution_count": 2,
     "metadata": {},
     "output_type": "execute_result"
    }
   ],
   "source": [
    "df.head()"
   ]
  },
  {
   "cell_type": "code",
   "execution_count": 3,
   "id": "20d06121-8270-4517-b856-963d47e06781",
   "metadata": {},
   "outputs": [
    {
     "data": {
      "text/plain": [
       "Step\n",
       "94    83302\n",
       "29    43986\n",
       "95    43622\n",
       "93    41702\n",
       "98    25702\n",
       "      ...  \n",
       "54      348\n",
       "57      347\n",
       "59      315\n",
       "58      285\n",
       "0        10\n",
       "Name: count, Length: 101, dtype: int64"
      ]
     },
     "execution_count": 3,
     "metadata": {},
     "output_type": "execute_result"
    }
   ],
   "source": [
    "# on the first version of the risky food sim, we couldn't do 100 steps for these because of the population explosion problem\n",
    "# how many steps did we end up with?\n",
    "df.Step.value_counts()\n"
   ]
  },
  {
   "cell_type": "code",
   "execution_count": 4,
   "id": "500f0a88-b880-43c0-9e8d-67a37971fb39",
   "metadata": {},
   "outputs": [
    {
     "data": {
      "text/plain": [
       "100"
      ]
     },
     "execution_count": 4,
     "metadata": {},
     "output_type": "execute_result"
    }
   ],
   "source": [
    "last_step_n = max(df.Step)\n",
    "last_step_n"
   ]
  },
  {
   "cell_type": "code",
   "execution_count": 5,
   "id": "1b79f2fb-310e-4007-8e90-633848c3e3d6",
   "metadata": {},
   "outputs": [
    {
     "data": {
      "text/html": [
       "<div>\n",
       "<style scoped>\n",
       "    .dataframe tbody tr th:only-of-type {\n",
       "        vertical-align: middle;\n",
       "    }\n",
       "\n",
       "    .dataframe tbody tr th {\n",
       "        vertical-align: top;\n",
       "    }\n",
       "\n",
       "    .dataframe thead th {\n",
       "        text-align: right;\n",
       "    }\n",
       "</style>\n",
       "<table border=\"1\" class=\"dataframe\">\n",
       "  <thead>\n",
       "    <tr style=\"text-align: right;\">\n",
       "      <th></th>\n",
       "      <th>RunId</th>\n",
       "      <th>iteration</th>\n",
       "      <th>Step</th>\n",
       "      <th>n</th>\n",
       "      <th>mode</th>\n",
       "      <th>prob_notcontaminated</th>\n",
       "      <th>contaminated</th>\n",
       "      <th>average_risk_level</th>\n",
       "      <th>min_risk_level</th>\n",
       "      <th>max_risk_level</th>\n",
       "      <th>num_agents</th>\n",
       "      <th>AgentID</th>\n",
       "      <th>risk_level</th>\n",
       "      <th>payoff</th>\n",
       "    </tr>\n",
       "  </thead>\n",
       "  <tbody>\n",
       "    <tr>\n",
       "      <th>2090</th>\n",
       "      <td>0</td>\n",
       "      <td>0</td>\n",
       "      <td>100</td>\n",
       "      <td>110</td>\n",
       "      <td>types</td>\n",
       "      <td>0.452254</td>\n",
       "      <td>0</td>\n",
       "      <td>0.009091</td>\n",
       "      <td>0.0</td>\n",
       "      <td>0.1</td>\n",
       "      <td>11</td>\n",
       "      <td>0-0</td>\n",
       "      <td>0.0</td>\n",
       "      <td>2.0</td>\n",
       "    </tr>\n",
       "    <tr>\n",
       "      <th>2091</th>\n",
       "      <td>0</td>\n",
       "      <td>0</td>\n",
       "      <td>100</td>\n",
       "      <td>110</td>\n",
       "      <td>types</td>\n",
       "      <td>0.452254</td>\n",
       "      <td>0</td>\n",
       "      <td>0.009091</td>\n",
       "      <td>0.0</td>\n",
       "      <td>0.1</td>\n",
       "      <td>11</td>\n",
       "      <td>0-1</td>\n",
       "      <td>0.0</td>\n",
       "      <td>2.0</td>\n",
       "    </tr>\n",
       "    <tr>\n",
       "      <th>2092</th>\n",
       "      <td>0</td>\n",
       "      <td>0</td>\n",
       "      <td>100</td>\n",
       "      <td>110</td>\n",
       "      <td>types</td>\n",
       "      <td>0.452254</td>\n",
       "      <td>0</td>\n",
       "      <td>0.009091</td>\n",
       "      <td>0.0</td>\n",
       "      <td>0.1</td>\n",
       "      <td>11</td>\n",
       "      <td>0-2</td>\n",
       "      <td>0.0</td>\n",
       "      <td>2.0</td>\n",
       "    </tr>\n",
       "    <tr>\n",
       "      <th>2093</th>\n",
       "      <td>0</td>\n",
       "      <td>0</td>\n",
       "      <td>100</td>\n",
       "      <td>110</td>\n",
       "      <td>types</td>\n",
       "      <td>0.452254</td>\n",
       "      <td>0</td>\n",
       "      <td>0.009091</td>\n",
       "      <td>0.0</td>\n",
       "      <td>0.1</td>\n",
       "      <td>11</td>\n",
       "      <td>0-3</td>\n",
       "      <td>0.0</td>\n",
       "      <td>2.0</td>\n",
       "    </tr>\n",
       "    <tr>\n",
       "      <th>2094</th>\n",
       "      <td>0</td>\n",
       "      <td>0</td>\n",
       "      <td>100</td>\n",
       "      <td>110</td>\n",
       "      <td>types</td>\n",
       "      <td>0.452254</td>\n",
       "      <td>0</td>\n",
       "      <td>0.009091</td>\n",
       "      <td>0.0</td>\n",
       "      <td>0.1</td>\n",
       "      <td>11</td>\n",
       "      <td>0-4</td>\n",
       "      <td>0.0</td>\n",
       "      <td>2.0</td>\n",
       "    </tr>\n",
       "    <tr>\n",
       "      <th>...</th>\n",
       "      <td>...</td>\n",
       "      <td>...</td>\n",
       "      <td>...</td>\n",
       "      <td>...</td>\n",
       "      <td>...</td>\n",
       "      <td>...</td>\n",
       "      <td>...</td>\n",
       "      <td>...</td>\n",
       "      <td>...</td>\n",
       "      <td>...</td>\n",
       "      <td>...</td>\n",
       "      <td>...</td>\n",
       "      <td>...</td>\n",
       "      <td>...</td>\n",
       "    </tr>\n",
       "    <tr>\n",
       "      <th>635962</th>\n",
       "      <td>9</td>\n",
       "      <td>9</td>\n",
       "      <td>100</td>\n",
       "      <td>110</td>\n",
       "      <td>types</td>\n",
       "      <td>0.003153</td>\n",
       "      <td>1</td>\n",
       "      <td>0.996109</td>\n",
       "      <td>0.0</td>\n",
       "      <td>1.0</td>\n",
       "      <td>2570</td>\n",
       "      <td>18598</td>\n",
       "      <td>1.0</td>\n",
       "      <td>1.0</td>\n",
       "    </tr>\n",
       "    <tr>\n",
       "      <th>635963</th>\n",
       "      <td>9</td>\n",
       "      <td>9</td>\n",
       "      <td>100</td>\n",
       "      <td>110</td>\n",
       "      <td>types</td>\n",
       "      <td>0.003153</td>\n",
       "      <td>1</td>\n",
       "      <td>0.996109</td>\n",
       "      <td>0.0</td>\n",
       "      <td>1.0</td>\n",
       "      <td>2570</td>\n",
       "      <td>18599</td>\n",
       "      <td>1.0</td>\n",
       "      <td>1.0</td>\n",
       "    </tr>\n",
       "    <tr>\n",
       "      <th>635964</th>\n",
       "      <td>9</td>\n",
       "      <td>9</td>\n",
       "      <td>100</td>\n",
       "      <td>110</td>\n",
       "      <td>types</td>\n",
       "      <td>0.003153</td>\n",
       "      <td>1</td>\n",
       "      <td>0.996109</td>\n",
       "      <td>0.0</td>\n",
       "      <td>1.0</td>\n",
       "      <td>2570</td>\n",
       "      <td>18600</td>\n",
       "      <td>1.0</td>\n",
       "      <td>1.0</td>\n",
       "    </tr>\n",
       "    <tr>\n",
       "      <th>635965</th>\n",
       "      <td>9</td>\n",
       "      <td>9</td>\n",
       "      <td>100</td>\n",
       "      <td>110</td>\n",
       "      <td>types</td>\n",
       "      <td>0.003153</td>\n",
       "      <td>1</td>\n",
       "      <td>0.996109</td>\n",
       "      <td>0.0</td>\n",
       "      <td>1.0</td>\n",
       "      <td>2570</td>\n",
       "      <td>18601</td>\n",
       "      <td>1.0</td>\n",
       "      <td>1.0</td>\n",
       "    </tr>\n",
       "    <tr>\n",
       "      <th>635966</th>\n",
       "      <td>9</td>\n",
       "      <td>9</td>\n",
       "      <td>100</td>\n",
       "      <td>110</td>\n",
       "      <td>types</td>\n",
       "      <td>0.003153</td>\n",
       "      <td>1</td>\n",
       "      <td>0.996109</td>\n",
       "      <td>0.0</td>\n",
       "      <td>1.0</td>\n",
       "      <td>2570</td>\n",
       "      <td>18602</td>\n",
       "      <td>1.0</td>\n",
       "      <td>1.0</td>\n",
       "    </tr>\n",
       "  </tbody>\n",
       "</table>\n",
       "<p>10342 rows × 14 columns</p>\n",
       "</div>"
      ],
      "text/plain": [
       "        RunId  iteration  Step    n   mode  prob_notcontaminated   \n",
       "2090        0          0   100  110  types              0.452254  \\\n",
       "2091        0          0   100  110  types              0.452254   \n",
       "2092        0          0   100  110  types              0.452254   \n",
       "2093        0          0   100  110  types              0.452254   \n",
       "2094        0          0   100  110  types              0.452254   \n",
       "...       ...        ...   ...  ...    ...                   ...   \n",
       "635962      9          9   100  110  types              0.003153   \n",
       "635963      9          9   100  110  types              0.003153   \n",
       "635964      9          9   100  110  types              0.003153   \n",
       "635965      9          9   100  110  types              0.003153   \n",
       "635966      9          9   100  110  types              0.003153   \n",
       "\n",
       "        contaminated  average_risk_level  min_risk_level  max_risk_level   \n",
       "2090               0            0.009091             0.0             0.1  \\\n",
       "2091               0            0.009091             0.0             0.1   \n",
       "2092               0            0.009091             0.0             0.1   \n",
       "2093               0            0.009091             0.0             0.1   \n",
       "2094               0            0.009091             0.0             0.1   \n",
       "...              ...                 ...             ...             ...   \n",
       "635962             1            0.996109             0.0             1.0   \n",
       "635963             1            0.996109             0.0             1.0   \n",
       "635964             1            0.996109             0.0             1.0   \n",
       "635965             1            0.996109             0.0             1.0   \n",
       "635966             1            0.996109             0.0             1.0   \n",
       "\n",
       "        num_agents AgentID  risk_level  payoff  \n",
       "2090            11     0-0         0.0     2.0  \n",
       "2091            11     0-1         0.0     2.0  \n",
       "2092            11     0-2         0.0     2.0  \n",
       "2093            11     0-3         0.0     2.0  \n",
       "2094            11     0-4         0.0     2.0  \n",
       "...            ...     ...         ...     ...  \n",
       "635962        2570   18598         1.0     1.0  \n",
       "635963        2570   18599         1.0     1.0  \n",
       "635964        2570   18600         1.0     1.0  \n",
       "635965        2570   18601         1.0     1.0  \n",
       "635966        2570   18602         1.0     1.0  \n",
       "\n",
       "[10342 rows x 14 columns]"
      ]
     },
     "execution_count": 5,
     "metadata": {},
     "output_type": "execute_result"
    }
   ],
   "source": [
    "# get data from the last step of each run\n",
    "last_step = df[df.Step == last_step_n]\n",
    "last_step"
   ]
  },
  {
   "cell_type": "markdown",
   "id": "6527d658-8724-425f-ab3b-c5feb5b767c3",
   "metadata": {},
   "source": [
    "## overall risk distribution at end of simulations"
   ]
  },
  {
   "cell_type": "code",
   "execution_count": 6,
   "id": "927567b5-bb71-41ba-9078-65631b9f82a3",
   "metadata": {},
   "outputs": [
    {
     "data": {
      "text/plain": [
       "<Axes: >"
      ]
     },
     "execution_count": 6,
     "metadata": {},
     "output_type": "execute_result"
    },
    {
     "data": {
      "image/png": "[encoded data removed]",
      "text/plain": [
       "<Figure size 640x480 with 1 Axes>"
      ]
     },
     "metadata": {},
     "output_type": "display_data"
    }
   ],
   "source": [
    "# overall ending risk distribution across all runs\n",
    "last_step.risk_level.hist()"
   ]
  },
  {
   "cell_type": "code",
   "execution_count": 7,
   "id": "3adaf26c-4d0e-4fae-9cca-649b6bd6286e",
   "metadata": {},
   "outputs": [
    {
     "data": {
      "text/plain": [
       "<Axes: >"
      ]
     },
     "execution_count": 7,
     "metadata": {},
     "output_type": "execute_result"
    },
    {
     "data": {
      "image/png": "[encoded data removed]",
      "text/plain": [
       "<Figure size 640x480 with 1 Axes>"
      ]
     },
     "metadata": {},
     "output_type": "display_data"
    }
   ],
   "source": [
    "# does it look any different if we change the number of bins?\n",
    "last_step.risk_level.hist(bins=20)"
   ]
  },
  {
   "cell_type": "code",
   "execution_count": 8,
   "id": "c26ce680-6892-42cc-80ea-20cf2361c9af",
   "metadata": {},
   "outputs": [
    {
     "data": {
      "text/plain": [
       "array([0, 1, 2, 3, 4, 5, 6, 7, 8, 9])"
      ]
     },
     "execution_count": 8,
     "metadata": {},
     "output_type": "execute_result"
    }
   ],
   "source": [
    "# how many runs did we have?\n",
    "# only 5, no variation in parameters\n",
    "last_step.RunId.unique()"
   ]
  },
  {
   "cell_type": "code",
   "execution_count": 14,
   "id": "b8a09aaa-3e24-4881-a59a-941b00be1319",
   "metadata": {},
   "outputs": [
    {
     "data": {
      "image/png": "[encoded data removed]",
      "text/plain": [
       "<Figure size 1800x1000 with 12 Axes>"
      ]
     },
     "metadata": {},
     "output_type": "display_data"
    }
   ],
   "source": [
    "# plot a histogram of ending risk levels for each run\n",
    "# combine into a grid of plots\n",
    "import matplotlib.pyplot as plt\n",
    "fig, ax = plt.subplots(ncols=4, nrows=3, sharex='col', sharey='row', figsize=(18,10))\n",
    "\n",
    "for run in last_step.RunId.unique():\n",
    "    run_last_step = last_step[last_step.RunId == run]\n",
    "    plot_location = ax[int(run/4), int(run % 4)]\n",
    "    run_last_step.risk_level.hist(ax=plot_location, bins=11)"
   ]
  }
 ],
 "metadata": {
  "kernelspec": {
   "display_name": "Python 3 (ipykernel)",
   "language": "python",
   "name": "python3"
  },
  "language_info": {
   "codemirror_mode": {
    "name": "ipython",
    "version": 3
   },
   "file_extension": ".py",
   "mimetype": "text/x-python",
   "name": "python",
   "nbconvert_exporter": "python",
   "pygments_lexer": "ipython3",
   "version": "3.9.13"
  }
 },
 "nbformat": 4,
 "nbformat_minor": 5
}
