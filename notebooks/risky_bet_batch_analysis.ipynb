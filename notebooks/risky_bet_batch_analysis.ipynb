{
 "cells": [
  {
   "cell_type": "code",
   "execution_count": 20,
   "id": "fae3476d-4db4-41af-9e14-7c6720b6f70d",
   "metadata": {},
   "outputs": [],
   "source": [
    "import pandas as pd\n",
    "\n",
    "df = pd.read_csv(\"../riskybet_2023-08-01T170427_097240.csv\")"
   ]
  },
  {
   "cell_type": "code",
   "execution_count": null,
   "id": "a09b3130-e43f-44a4-b161-30f43412f91a",
   "metadata": {},
   "outputs": [],
   "source": [
    "df.head()"
   ]
  },
  {
   "cell_type": "code",
   "execution_count": 21,
   "id": "6f84281e-b7fc-4b05-8e5f-771e9f3e2da3",
   "metadata": {},
   "outputs": [
    {
     "data": {
      "text/plain": [
       "3000"
      ]
     },
     "execution_count": 21,
     "metadata": {},
     "output_type": "execute_result"
    }
   ],
   "source": [
    "last_step_n = max(df.Step)\n",
    "last_step_n"
   ]
  },
  {
   "cell_type": "code",
   "execution_count": 22,
   "id": "549276ba-fb0a-4410-a47c-7260c3c8795f",
   "metadata": {},
   "outputs": [
    {
     "data": {
      "text/html": [
       "<div>\n",
       "<style scoped>\n",
       "    .dataframe tbody tr th:only-of-type {\n",
       "        vertical-align: middle;\n",
       "    }\n",
       "\n",
       "    .dataframe tbody tr th {\n",
       "        vertical-align: top;\n",
       "    }\n",
       "\n",
       "    .dataframe thead th {\n",
       "        text-align: right;\n",
       "    }\n",
       "</style>\n",
       "<table border=\"1\" class=\"dataframe\">\n",
       "  <thead>\n",
       "    <tr style=\"text-align: right;\">\n",
       "      <th></th>\n",
       "      <th>RunId</th>\n",
       "      <th>iteration</th>\n",
       "      <th>Step</th>\n",
       "      <th>grid_size</th>\n",
       "      <th>risk_adjustment</th>\n",
       "      <th>prob_risky_payoff</th>\n",
       "      <th>risky_bet</th>\n",
       "      <th>risk_min</th>\n",
       "      <th>risk_q1</th>\n",
       "      <th>risk_mean</th>\n",
       "      <th>risk_q3</th>\n",
       "      <th>risk_max</th>\n",
       "      <th>AgentID</th>\n",
       "      <th>risk_level</th>\n",
       "      <th>choice</th>\n",
       "    </tr>\n",
       "  </thead>\n",
       "  <tbody>\n",
       "    <tr>\n",
       "      <th>2699101</th>\n",
       "      <td>0</td>\n",
       "      <td>0</td>\n",
       "      <td>3000</td>\n",
       "      <td>30</td>\n",
       "      <td>adopt</td>\n",
       "      <td>0.146268</td>\n",
       "      <td>False</td>\n",
       "      <td>0.921671</td>\n",
       "      <td>0.932366</td>\n",
       "      <td>0.959834</td>\n",
       "      <td>0.989232</td>\n",
       "      <td>0.997649</td>\n",
       "      <td>0.0</td>\n",
       "      <td>0.964861</td>\n",
       "      <td>Bet.SAFE</td>\n",
       "    </tr>\n",
       "    <tr>\n",
       "      <th>2699102</th>\n",
       "      <td>0</td>\n",
       "      <td>0</td>\n",
       "      <td>3000</td>\n",
       "      <td>30</td>\n",
       "      <td>adopt</td>\n",
       "      <td>0.146268</td>\n",
       "      <td>False</td>\n",
       "      <td>0.921671</td>\n",
       "      <td>0.932366</td>\n",
       "      <td>0.959834</td>\n",
       "      <td>0.989232</td>\n",
       "      <td>0.997649</td>\n",
       "      <td>1.0</td>\n",
       "      <td>0.962729</td>\n",
       "      <td>Bet.SAFE</td>\n",
       "    </tr>\n",
       "    <tr>\n",
       "      <th>2699103</th>\n",
       "      <td>0</td>\n",
       "      <td>0</td>\n",
       "      <td>3000</td>\n",
       "      <td>30</td>\n",
       "      <td>adopt</td>\n",
       "      <td>0.146268</td>\n",
       "      <td>False</td>\n",
       "      <td>0.921671</td>\n",
       "      <td>0.932366</td>\n",
       "      <td>0.959834</td>\n",
       "      <td>0.989232</td>\n",
       "      <td>0.997649</td>\n",
       "      <td>2.0</td>\n",
       "      <td>0.926470</td>\n",
       "      <td>Bet.SAFE</td>\n",
       "    </tr>\n",
       "    <tr>\n",
       "      <th>2699104</th>\n",
       "      <td>0</td>\n",
       "      <td>0</td>\n",
       "      <td>3000</td>\n",
       "      <td>30</td>\n",
       "      <td>adopt</td>\n",
       "      <td>0.146268</td>\n",
       "      <td>False</td>\n",
       "      <td>0.921671</td>\n",
       "      <td>0.932366</td>\n",
       "      <td>0.959834</td>\n",
       "      <td>0.989232</td>\n",
       "      <td>0.997649</td>\n",
       "      <td>3.0</td>\n",
       "      <td>0.989232</td>\n",
       "      <td>Bet.SAFE</td>\n",
       "    </tr>\n",
       "    <tr>\n",
       "      <th>2699105</th>\n",
       "      <td>0</td>\n",
       "      <td>0</td>\n",
       "      <td>3000</td>\n",
       "      <td>30</td>\n",
       "      <td>adopt</td>\n",
       "      <td>0.146268</td>\n",
       "      <td>False</td>\n",
       "      <td>0.921671</td>\n",
       "      <td>0.932366</td>\n",
       "      <td>0.959834</td>\n",
       "      <td>0.989232</td>\n",
       "      <td>0.997649</td>\n",
       "      <td>4.0</td>\n",
       "      <td>0.932366</td>\n",
       "      <td>Bet.SAFE</td>\n",
       "    </tr>\n",
       "    <tr>\n",
       "      <th>...</th>\n",
       "      <td>...</td>\n",
       "      <td>...</td>\n",
       "      <td>...</td>\n",
       "      <td>...</td>\n",
       "      <td>...</td>\n",
       "      <td>...</td>\n",
       "      <td>...</td>\n",
       "      <td>...</td>\n",
       "      <td>...</td>\n",
       "      <td>...</td>\n",
       "      <td>...</td>\n",
       "      <td>...</td>\n",
       "      <td>...</td>\n",
       "      <td>...</td>\n",
       "      <td>...</td>\n",
       "    </tr>\n",
       "    <tr>\n",
       "      <th>13500000</th>\n",
       "      <td>4</td>\n",
       "      <td>4</td>\n",
       "      <td>3000</td>\n",
       "      <td>30</td>\n",
       "      <td>adopt</td>\n",
       "      <td>0.263302</td>\n",
       "      <td>False</td>\n",
       "      <td>0.891088</td>\n",
       "      <td>0.906854</td>\n",
       "      <td>0.938672</td>\n",
       "      <td>0.985759</td>\n",
       "      <td>0.995927</td>\n",
       "      <td>895.0</td>\n",
       "      <td>0.912332</td>\n",
       "      <td>Bet.SAFE</td>\n",
       "    </tr>\n",
       "    <tr>\n",
       "      <th>13500001</th>\n",
       "      <td>4</td>\n",
       "      <td>4</td>\n",
       "      <td>3000</td>\n",
       "      <td>30</td>\n",
       "      <td>adopt</td>\n",
       "      <td>0.263302</td>\n",
       "      <td>False</td>\n",
       "      <td>0.891088</td>\n",
       "      <td>0.906854</td>\n",
       "      <td>0.938672</td>\n",
       "      <td>0.985759</td>\n",
       "      <td>0.995927</td>\n",
       "      <td>896.0</td>\n",
       "      <td>0.909342</td>\n",
       "      <td>Bet.SAFE</td>\n",
       "    </tr>\n",
       "    <tr>\n",
       "      <th>13500002</th>\n",
       "      <td>4</td>\n",
       "      <td>4</td>\n",
       "      <td>3000</td>\n",
       "      <td>30</td>\n",
       "      <td>adopt</td>\n",
       "      <td>0.263302</td>\n",
       "      <td>False</td>\n",
       "      <td>0.891088</td>\n",
       "      <td>0.906854</td>\n",
       "      <td>0.938672</td>\n",
       "      <td>0.985759</td>\n",
       "      <td>0.995927</td>\n",
       "      <td>897.0</td>\n",
       "      <td>0.986264</td>\n",
       "      <td>Bet.SAFE</td>\n",
       "    </tr>\n",
       "    <tr>\n",
       "      <th>13500003</th>\n",
       "      <td>4</td>\n",
       "      <td>4</td>\n",
       "      <td>3000</td>\n",
       "      <td>30</td>\n",
       "      <td>adopt</td>\n",
       "      <td>0.263302</td>\n",
       "      <td>False</td>\n",
       "      <td>0.891088</td>\n",
       "      <td>0.906854</td>\n",
       "      <td>0.938672</td>\n",
       "      <td>0.985759</td>\n",
       "      <td>0.995927</td>\n",
       "      <td>898.0</td>\n",
       "      <td>0.986130</td>\n",
       "      <td>Bet.SAFE</td>\n",
       "    </tr>\n",
       "    <tr>\n",
       "      <th>13500004</th>\n",
       "      <td>4</td>\n",
       "      <td>4</td>\n",
       "      <td>3000</td>\n",
       "      <td>30</td>\n",
       "      <td>adopt</td>\n",
       "      <td>0.263302</td>\n",
       "      <td>False</td>\n",
       "      <td>0.891088</td>\n",
       "      <td>0.906854</td>\n",
       "      <td>0.938672</td>\n",
       "      <td>0.985759</td>\n",
       "      <td>0.995927</td>\n",
       "      <td>899.0</td>\n",
       "      <td>0.891088</td>\n",
       "      <td>Bet.SAFE</td>\n",
       "    </tr>\n",
       "  </tbody>\n",
       "</table>\n",
       "<p>4500 rows × 15 columns</p>\n",
       "</div>"
      ],
      "text/plain": [
       "          RunId  iteration  Step  grid_size risk_adjustment   \n",
       "2699101       0          0  3000         30           adopt  \\\n",
       "2699102       0          0  3000         30           adopt   \n",
       "2699103       0          0  3000         30           adopt   \n",
       "2699104       0          0  3000         30           adopt   \n",
       "2699105       0          0  3000         30           adopt   \n",
       "...         ...        ...   ...        ...             ...   \n",
       "13500000      4          4  3000         30           adopt   \n",
       "13500001      4          4  3000         30           adopt   \n",
       "13500002      4          4  3000         30           adopt   \n",
       "13500003      4          4  3000         30           adopt   \n",
       "13500004      4          4  3000         30           adopt   \n",
       "\n",
       "          prob_risky_payoff  risky_bet  risk_min   risk_q1  risk_mean   \n",
       "2699101            0.146268      False  0.921671  0.932366   0.959834  \\\n",
       "2699102            0.146268      False  0.921671  0.932366   0.959834   \n",
       "2699103            0.146268      False  0.921671  0.932366   0.959834   \n",
       "2699104            0.146268      False  0.921671  0.932366   0.959834   \n",
       "2699105            0.146268      False  0.921671  0.932366   0.959834   \n",
       "...                     ...        ...       ...       ...        ...   \n",
       "13500000           0.263302      False  0.891088  0.906854   0.938672   \n",
       "13500001           0.263302      False  0.891088  0.906854   0.938672   \n",
       "13500002           0.263302      False  0.891088  0.906854   0.938672   \n",
       "13500003           0.263302      False  0.891088  0.906854   0.938672   \n",
       "13500004           0.263302      False  0.891088  0.906854   0.938672   \n",
       "\n",
       "           risk_q3  risk_max  AgentID  risk_level    choice  \n",
       "2699101   0.989232  0.997649      0.0    0.964861  Bet.SAFE  \n",
       "2699102   0.989232  0.997649      1.0    0.962729  Bet.SAFE  \n",
       "2699103   0.989232  0.997649      2.0    0.926470  Bet.SAFE  \n",
       "2699104   0.989232  0.997649      3.0    0.989232  Bet.SAFE  \n",
       "2699105   0.989232  0.997649      4.0    0.932366  Bet.SAFE  \n",
       "...            ...       ...      ...         ...       ...  \n",
       "13500000  0.985759  0.995927    895.0    0.912332  Bet.SAFE  \n",
       "13500001  0.985759  0.995927    896.0    0.909342  Bet.SAFE  \n",
       "13500002  0.985759  0.995927    897.0    0.986264  Bet.SAFE  \n",
       "13500003  0.985759  0.995927    898.0    0.986130  Bet.SAFE  \n",
       "13500004  0.985759  0.995927    899.0    0.891088  Bet.SAFE  \n",
       "\n",
       "[4500 rows x 15 columns]"
      ]
     },
     "execution_count": 22,
     "metadata": {},
     "output_type": "execute_result"
    }
   ],
   "source": [
    "last_step = df[df.Step == last_step_n]\n",
    "last_step"
   ]
  },
  {
   "cell_type": "markdown",
   "id": "808a06a1-76ab-4ca3-8fab-4f9f40d60857",
   "metadata": {},
   "source": [
    "## overall risk distribution at end of simulations"
   ]
  },
  {
   "cell_type": "code",
   "execution_count": 29,
   "id": "f9a8cbbe-13d8-4f7b-9348-15feebe7a88a",
   "metadata": {},
   "outputs": [
    {
     "data": {
      "text/plain": [
       "<Axes: >"
      ]
     },
     "execution_count": 29,
     "metadata": {},
     "output_type": "execute_result"
    },
    {
     "data": {
      "image/png": "[encoded data removed]",
      "text/plain": [
       "<Figure size 640x480 with 1 Axes>"
      ]
     },
     "metadata": {},
     "output_type": "display_data"
    }
   ],
   "source": [
    "# overall ending risk distribution across all runs\n",
    "last_step.risk_level.hist(range=[0,1])"
   ]
  },
  {
   "cell_type": "code",
   "execution_count": 28,
   "id": "87aada54-d371-43e4-9554-6597ea6330e0",
   "metadata": {},
   "outputs": [
    {
     "data": {
      "text/plain": [
       "<Axes: >"
      ]
     },
     "execution_count": 28,
     "metadata": {},
     "output_type": "execute_result"
    },
    {
     "data": {
      "image/png": "[encoded data removed]",
      "text/plain": [
       "<Figure size 640x480 with 1 Axes>"
      ]
     },
     "metadata": {},
     "output_type": "display_data"
    }
   ],
   "source": [
    "# does it look any different if we change the number of bins?\n",
    "last_step.risk_level.hist(bins=20, range=[0, 1])"
   ]
  },
  {
   "cell_type": "markdown",
   "id": "7fef6b97-e1d1-45cd-bcad-b0da4e2ae2af",
   "metadata": {},
   "source": [
    "## histogram of ending risk levels for each simulation"
   ]
  },
  {
   "cell_type": "code",
   "execution_count": 25,
   "id": "bc8c0f48-d4bb-4197-a57b-c924bd41c649",
   "metadata": {},
   "outputs": [
    {
     "data": {
      "text/plain": [
       "array([0, 1, 2, 3, 4])"
      ]
     },
     "execution_count": 25,
     "metadata": {},
     "output_type": "execute_result"
    }
   ],
   "source": [
    "last_step.RunId.unique()"
   ]
  },
  {
   "cell_type": "code",
   "execution_count": 26,
   "id": "cef78a71-4c96-4628-925b-4cc63c57d5f5",
   "metadata": {},
   "outputs": [
    {
     "data": {
      "text/plain": [
       "5"
      ]
     },
     "execution_count": 26,
     "metadata": {},
     "output_type": "execute_result"
    }
   ],
   "source": [
    "len(last_step.RunId.unique())"
   ]
  },
  {
   "cell_type": "code",
   "execution_count": 45,
   "id": "64d59cd5-7058-4940-9187-f30b6c50a1cc",
   "metadata": {},
   "outputs": [
    {
     "data": {
      "text/plain": [
       "count    4500.000000\n",
       "mean        0.959786\n",
       "std         0.030035\n",
       "min         0.868069\n",
       "25%         0.933203\n",
       "50%         0.963950\n",
       "75%         0.986489\n",
       "max         0.998929\n",
       "Name: risk_level, dtype: float64"
      ]
     },
     "execution_count": 45,
     "metadata": {},
     "output_type": "execute_result"
    }
   ],
   "source": [
    "last_step.risk_level.describe()"
   ]
  },
  {
   "cell_type": "code",
   "execution_count": 44,
   "id": "358468a7-f223-4410-b4bd-f614a2b339fa",
   "metadata": {},
   "outputs": [
    {
     "name": "stdout",
     "output_type": "stream",
     "text": [
      "count    900.000000\n",
      "mean       0.959834\n",
      "std        0.027286\n",
      "min        0.921671\n",
      "25%        0.933203\n",
      "50%        0.961884\n",
      "75%        0.989232\n",
      "max        0.997649\n",
      "Name: risk_level, dtype: float64\n",
      "count    900.000000\n",
      "mean       0.970092\n",
      "std        0.021066\n",
      "min        0.882463\n",
      "25%        0.956693\n",
      "50%        0.975349\n",
      "75%        0.975349\n",
      "max        0.997409\n",
      "Name: risk_level, dtype: float64\n",
      "count    900.000000\n",
      "mean       0.965771\n",
      "std        0.012998\n",
      "min        0.896907\n",
      "25%        0.962232\n",
      "50%        0.963950\n",
      "75%        0.963950\n",
      "max        0.997160\n",
      "Name: risk_level, dtype: float64\n",
      "count    900.000000\n",
      "mean       0.964561\n",
      "std        0.032457\n",
      "min        0.868069\n",
      "25%        0.927329\n",
      "50%        0.986650\n",
      "75%        0.990270\n",
      "max        0.998929\n",
      "Name: risk_level, dtype: float64\n",
      "count    900.000000\n",
      "mean       0.938672\n",
      "std        0.038634\n",
      "min        0.891088\n",
      "25%        0.906854\n",
      "50%        0.912332\n",
      "75%        0.985759\n",
      "max        0.995927\n",
      "Name: risk_level, dtype: float64\n"
     ]
    },
    {
     "data": {
      "image/png": "[encoded data removed]",
      "text/plain": [
       "<Figure size 1600x800 with 6 Axes>"
      ]
     },
     "metadata": {},
     "output_type": "display_data"
    }
   ],
   "source": [
    "# plot a histogram of ending risk levels for each run\n",
    "# combine into a grid of plots\n",
    "import matplotlib.pyplot as plt\n",
    "fig, ax = plt.subplots(2, 3, sharex='col', sharey='row', figsize=(16,8))\n",
    "\n",
    "for run in last_step.RunId.unique():\n",
    "    run_last_step = last_step[last_step.RunId == run]\n",
    "    print(run_last_step.risk_level.describe())\n",
    "    plot_location = ax[int(run/3), int(run % 3)]\n",
    "    run_last_step.risk_level.hist(ax=plot_location, bins=25, range=[0,1])\n",
    "    # use grid size and risk adjustment strategy to title the plot\n",
    "    grid_size = run_last_step.iloc[0].grid_size\n",
    "    # plot_location.set_title(\"%dx%d grid, %s\" % (grid_size, grid_size, run_last_step.iloc[0].risk_adjustment))"
   ]
  },
  {
   "cell_type": "code",
   "execution_count": 38,
   "id": "68b57146-09c9-475c-adb8-104f44c0c4e1",
   "metadata": {},
   "outputs": [],
   "source": [
    "fig.savefig(\"riskybet_batch_300k.png\")"
   ]
  }
 ],
 "metadata": {
  "kernelspec": {
   "display_name": "Python 3 (ipykernel)",
   "language": "python",
   "name": "python3"
  },
  "language_info": {
   "codemirror_mode": {
    "name": "ipython",
    "version": 3
   },
   "file_extension": ".py",
   "mimetype": "text/x-python",
   "name": "python",
   "nbconvert_exporter": "python",
   "pygments_lexer": "ipython3",
   "version": "3.9.13"
  }
 },
 "nbformat": 4,
 "nbformat_minor": 5
}
